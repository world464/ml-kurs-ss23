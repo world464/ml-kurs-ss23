{
 "cells": [
  {
   "cell_type": "markdown",
   "metadata": {
    "id": "TOBUyiZq3d2u"
   },
   "source": [
    "# Praktische Übung 6: Neural Networks - Lösung\n"
   ]
  },
  {
   "cell_type": "markdown",
   "metadata": {
    "id": "LhdvnPe4Q-pO"
   },
   "source": [
    "### 0. Preamble"
   ]
  },
  {
   "cell_type": "code",
   "execution_count": 1,
   "metadata": {
    "id": "K8-YOrlu3w8z"
   },
   "outputs": [],
   "source": [
    "import numpy as np\n",
    "import torch\n",
    "import torch.nn.functional as F\n",
    "import torch.nn as nn\n",
    "import matplotlib.pyplot as plt\n",
    "\n",
    "torch.manual_seed(1)\n",
    "np.random.seed(1)"
   ]
  },
  {
   "cell_type": "markdown",
   "metadata": {},
   "source": [
    "The following lines checks for GPU availability on the machine and sets the GPU as processing device (if available). If you are on Google Colab you can enable GPU support in the menu via `Runtime > Change runtime type` and select `GPU` as hardware accelerator."
   ]
  },
  {
   "cell_type": "code",
   "execution_count": 2,
   "metadata": {
    "colab": {
     "base_uri": "https://localhost:8080/"
    },
    "id": "S3DgoJj735Gr",
    "outputId": "e56e337f-c44f-4bc3-c1ae-e532bb999356"
   },
   "outputs": [
    {
     "name": "stdout",
     "output_type": "stream",
     "text": [
      "No GPU available\n"
     ]
    },
    {
     "data": {
      "text/plain": [
       "device(type='cpu')"
      ]
     },
     "execution_count": 2,
     "metadata": {},
     "output_type": "execute_result"
    }
   ],
   "source": [
    "if(torch.cuda.is_available()):\n",
    "  processing_chip = \"cuda:0\"\n",
    "  print(f\"{torch.cuda.get_device_name(0)} available\")\n",
    "else:\n",
    "  processing_chip = \"cpu\"\n",
    "  print(\"No GPU available\")\n",
    "\n",
    "device = torch.device(processing_chip)\n",
    "device"
   ]
  },
  {
   "cell_type": "markdown",
   "metadata": {
    "id": "Y8EgmXccAr9b"
   },
   "source": [
    "### 1. Data Preperation"
   ]
  },
  {
   "cell_type": "markdown",
   "metadata": {},
   "source": [
    "We work with the already know digit dataset. For more details on the dataset, check our [previous](https://github.com/pabair/ml-kurs-ss21/blob/master/2_Logistische_Regression_Digits.ipynb) notebook.\n"
   ]
  },
  {
   "cell_type": "code",
   "execution_count": 3,
   "metadata": {
    "id": "DZoYUZfQ_TU8"
   },
   "outputs": [],
   "source": [
    "from sklearn.datasets import load_digits\n",
    "data, labels = load_digits(return_X_y = True)"
   ]
  },
  {
   "cell_type": "code",
   "execution_count": 4,
   "metadata": {
    "id": "KfY2iF0WTlWu"
   },
   "outputs": [],
   "source": [
    "from sklearn.model_selection import train_test_split\n",
    "train_X, test_X, train_y, test_y = train_test_split(data, labels, test_size=0.2, random_state=0)"
   ]
  },
  {
   "cell_type": "code",
   "execution_count": 5,
   "metadata": {
    "colab": {
     "base_uri": "https://localhost:8080/"
    },
    "id": "fQqdZZ16AHBe",
    "outputId": "75f7aff9-a647-4010-bafa-8141fc7aa46d"
   },
   "outputs": [
    {
     "data": {
      "text/plain": [
       "array([[ 0.,  0.,  0., ..., 16., 16.,  6.],\n",
       "       [ 0.,  3., 12., ..., 16.,  2.,  0.],\n",
       "       [ 0.,  1., 10., ...,  0.,  0.,  0.],\n",
       "       ...,\n",
       "       [ 0.,  0.,  5., ...,  0.,  0.,  0.],\n",
       "       [ 0.,  0.,  4., ...,  0.,  0.,  0.],\n",
       "       [ 0.,  0.,  6., ..., 11.,  0.,  0.]])"
      ]
     },
     "execution_count": 5,
     "metadata": {},
     "output_type": "execute_result"
    }
   ],
   "source": [
    "train_X"
   ]
  },
  {
   "cell_type": "markdown",
   "metadata": {},
   "source": [
    "To be able to use the data in PyTorch, we need to convert them into PyTorch tensors. Such a tensor can be thought of an efficient way to represent lists and matrices (similar to Numpy), with the additional benefit that they can be moved to the GPU (the .to(device) part in the code below) and that they support automatic backpropagation (more on this later):"
   ]
  },
  {
   "cell_type": "code",
   "execution_count": 6,
   "metadata": {},
   "outputs": [],
   "source": [
    "train_x = torch.Tensor(train_X).float().to(device)\n",
    "test_x = torch.Tensor(test_X).float().to(device)\n",
    "train_y =torch.Tensor(train_y).long().to(device)\n",
    "test_y = torch.Tensor(test_y).long().to(device)"
   ]
  },
  {
   "cell_type": "markdown",
   "metadata": {
    "id": "5wcTXnyu7NWK"
   },
   "source": [
    "### 2. Model definition \n"
   ]
  },
  {
   "cell_type": "markdown",
   "metadata": {},
   "source": [
    "We define now the strucutre of our neural network. For this we create a class that is a subclass from PyTorch's nn.Module. By convention we put in the `__init__` method the layers we want to use in the network and in the `forward` method how data flows through this network.\n",
    "\n",
    "Our network has 64 input features, one hidden layer with 5 neurons and 10 output neurons. The hidden layer uses a Relu activation function. Note that the output layer does not have a softmax activation (unlike we have seen it in the lecture). It rather gives out a raw score for each class (more on this later)."
   ]
  },
  {
   "cell_type": "code",
   "execution_count": 7,
   "metadata": {
    "id": "_W47oZ534E-1"
   },
   "outputs": [],
   "source": [
    "class Net(nn.Module):\n",
    "  def __init__(self):\n",
    "    super(Net, self).__init__()\n",
    "    self.hidden1 = nn.Linear(64, 10) # Task 1\n",
    "    self.hidden2 = nn.Linear(10, 5)  # Task 1\n",
    "    self.output = nn.Linear(5, 10)\n",
    "\n",
    "  def forward(self, x):\n",
    "    z = F.relu(self.hidden1(x))\n",
    "    z = F.relu(self.hidden2(z)) # Task 1\n",
    "    z = self.output(z)  # no softmax. see CrossEntropyLoss() \n",
    "    return z"
   ]
  },
  {
   "cell_type": "markdown",
   "metadata": {
    "id": "gJyy5JG_84vs"
   },
   "source": [
    "### 3. Model Training"
   ]
  },
  {
   "cell_type": "markdown",
   "metadata": {},
   "source": [
    "We can now start training our network. We run several epochs in which we first predict on the training data with our network and than backpropagate the loss. For this we use PyTorch's build-in optimizer that runs gradient descent on the weights of the network. Hence, in every episode we reduce the loss on the training data and improve our network.\n",
    "\n",
    "As loss function we use cross entropy, which consumes the raw scores from the prediction and internally applies a softmax (that is why we do not need the softmax as last layer in the network).\n",
    "\n",
    "Note that all training data is passed at once to our network (line `net(train_x)` ), since PyTorch will predict on all data points in parallel."
   ]
  },
  {
   "cell_type": "code",
   "execution_count": 8,
   "metadata": {},
   "outputs": [
    {
     "data": {
      "text/plain": [
       "Net(\n",
       "  (hidden1): Linear(in_features=64, out_features=10, bias=True)\n",
       "  (hidden2): Linear(in_features=10, out_features=5, bias=True)\n",
       "  (output): Linear(in_features=5, out_features=10, bias=True)\n",
       ")"
      ]
     },
     "execution_count": 8,
     "metadata": {},
     "output_type": "execute_result"
    }
   ],
   "source": [
    "# create network, move it to device and set it to training-mode\n",
    "net = Net().to(device)\n",
    "net.train()"
   ]
  },
  {
   "cell_type": "code",
   "execution_count": 9,
   "metadata": {
    "colab": {
     "base_uri": "https://localhost:8080/"
    },
    "id": "7RQHZvvyAFzV",
    "outputId": "85c7caef-49ee-443f-d052-30af1758c4a2"
   },
   "outputs": [
    {
     "name": "stdout",
     "output_type": "stream",
     "text": [
      "\n",
      "Starting training \n",
      "Loss in epoch 0 is 2.768087387084961\n",
      "Loss in epoch 100 is 1.8456432819366455\n",
      "Loss in epoch 200 is 1.5123120546340942\n",
      "Loss in epoch 300 is 1.283310890197754\n",
      "Loss in epoch 400 is 1.1420927047729492\n",
      "Loss in epoch 500 is 0.9864488244056702\n",
      "Loss in epoch 600 is 0.7818663716316223\n",
      "Loss in epoch 700 is 0.6709215044975281\n",
      "Loss in epoch 800 is 0.5803940892219543\n",
      "Loss in epoch 900 is 0.4972643256187439\n",
      "Loss in epoch 1000 is 0.4304571747779846\n",
      "Loss in epoch 1100 is 0.37476667761802673\n",
      "Loss in epoch 1200 is 0.3190990090370178\n",
      "Loss in epoch 1300 is 0.26466989517211914\n",
      "Loss in epoch 1400 is 0.22832602262496948\n",
      "Loss in epoch 1500 is 0.20401905477046967\n",
      "Loss in epoch 1600 is 0.18581870198249817\n",
      "Loss in epoch 1700 is 0.17134864628314972\n",
      "Loss in epoch 1800 is 0.15933029353618622\n",
      "Loss in epoch 1900 is 0.14909332990646362\n",
      "Loss in epoch 2000 is 0.14020377397537231\n",
      "Loss in epoch 2100 is 0.13237212598323822\n",
      "Loss in epoch 2200 is 0.12521572411060333\n",
      "Loss in epoch 2300 is 0.1187385767698288\n",
      "Loss in epoch 2400 is 0.11281826347112656\n",
      "Loss in epoch 2500 is 0.10742434114217758\n",
      "Loss in epoch 2600 is 0.1024484634399414\n",
      "Loss in epoch 2700 is 0.097802072763443\n",
      "Loss in epoch 2800 is 0.09344605356454849\n",
      "Loss in epoch 2900 is 0.08937712013721466\n",
      "Loss in epoch 3000 is 0.08558943122625351\n",
      "Loss in epoch 3100 is 0.08196908235549927\n",
      "Loss in epoch 3200 is 0.07857124507427216\n",
      "Loss in epoch 3300 is 0.07544279098510742\n",
      "Loss in epoch 3400 is 0.07253368198871613\n",
      "Loss in epoch 3500 is 0.06982209533452988\n",
      "Loss in epoch 3600 is 0.06719423085451126\n",
      "Loss in epoch 3700 is 0.06472761183977127\n",
      "Loss in epoch 3800 is 0.06242461875081062\n",
      "Loss in epoch 3900 is 0.06027626618742943\n",
      "Loss in epoch 4000 is 0.058243025094270706\n",
      "Loss in epoch 4100 is 0.05632650479674339\n",
      "Loss in epoch 4200 is 0.054510265588760376\n",
      "Loss in epoch 4300 is 0.05277780443429947\n",
      "Loss in epoch 4400 is 0.051136307418346405\n",
      "Loss in epoch 4500 is 0.04957843944430351\n",
      "Loss in epoch 4600 is 0.04808910936117172\n",
      "Loss in epoch 4700 is 0.04665924236178398\n",
      "Loss in epoch 4800 is 0.045289743691682816\n",
      "Loss in epoch 4900 is 0.0439758338034153\n",
      "Loss in epoch 5000 is 0.04268604889512062\n",
      "Loss in epoch 5100 is 0.04143339395523071\n",
      "Loss in epoch 5200 is 0.040118664503097534\n",
      "Loss in epoch 5300 is 0.03867695853114128\n",
      "Loss in epoch 5400 is 0.03734274208545685\n",
      "Loss in epoch 5500 is 0.036030370742082596\n",
      "Loss in epoch 5600 is 0.03480686992406845\n",
      "Loss in epoch 5700 is 0.03365560993552208\n",
      "Loss in epoch 5800 is 0.03256037086248398\n",
      "Loss in epoch 5900 is 0.0315113440155983\n",
      "Loss in epoch 6000 is 0.030518198385834694\n",
      "Loss in epoch 6100 is 0.029568446800112724\n",
      "Loss in epoch 6200 is 0.028656436130404472\n",
      "Loss in epoch 6300 is 0.027776142582297325\n",
      "Loss in epoch 6400 is 0.02693905495107174\n",
      "Loss in epoch 6500 is 0.02612435817718506\n",
      "Loss in epoch 6600 is 0.02534148283302784\n",
      "Loss in epoch 6700 is 0.024592511355876923\n",
      "Loss in epoch 6800 is 0.023874109610915184\n",
      "Loss in epoch 6900 is 0.023190539330244064\n",
      "Loss in epoch 7000 is 0.022528639063239098\n",
      "Loss in epoch 7100 is 0.02189761772751808\n",
      "Loss in epoch 7200 is 0.02128484472632408\n",
      "Loss in epoch 7300 is 0.02070128172636032\n",
      "Loss in epoch 7400 is 0.02013092115521431\n",
      "Loss in epoch 7500 is 0.019585736095905304\n",
      "Loss in epoch 7600 is 0.0190647691488266\n",
      "Loss in epoch 7700 is 0.018558312207460403\n",
      "Loss in epoch 7800 is 0.018076032400131226\n",
      "Loss in epoch 7900 is 0.017608458176255226\n",
      "Loss in epoch 8000 is 0.017158709466457367\n",
      "Loss in epoch 8100 is 0.016727186739444733\n",
      "Loss in epoch 8200 is 0.016307346522808075\n",
      "Loss in epoch 8300 is 0.015906017273664474\n",
      "Loss in epoch 8400 is 0.01551785971969366\n",
      "Loss in epoch 8500 is 0.015146980062127113\n",
      "Loss in epoch 8600 is 0.01478295773267746\n",
      "Loss in epoch 8700 is 0.01443014107644558\n",
      "Loss in epoch 8800 is 0.01409091055393219\n",
      "Loss in epoch 8900 is 0.013759731315076351\n",
      "Loss in epoch 9000 is 0.013442645780742168\n",
      "Loss in epoch 9100 is 0.013134857639670372\n",
      "Loss in epoch 9200 is 0.012839115224778652\n",
      "Loss in epoch 9300 is 0.012552355416119099\n",
      "Loss in epoch 9400 is 0.012275789864361286\n",
      "Loss in epoch 9500 is 0.012007877230644226\n",
      "Loss in epoch 9600 is 0.01174953393638134\n",
      "Loss in epoch 9700 is 0.01149971317499876\n",
      "Loss in epoch 9800 is 0.011256360448896885\n",
      "Loss in epoch 9900 is 0.011022098362445831\n",
      "Done training \n"
     ]
    }
   ],
   "source": [
    "# create network, move it to device and set it to training-mode\n",
    "net = Net().to(device)\n",
    "net.train()\n",
    "\n",
    "# define the parameters for training\n",
    "no_epochs = 10000\n",
    "learning_rate = 0.01\n",
    "loss_func = nn.CrossEntropyLoss()  # applies softmax() internally\n",
    "optimizer = torch.optim.SGD(net.parameters(), lr=learning_rate)\n",
    "\n",
    "print(\"\\nStarting training \")\n",
    "\n",
    "train_losses = []\n",
    "test_losses = []\n",
    "for epoch in range(0, no_epochs):\n",
    "\n",
    "  optimizer.zero_grad()\n",
    "  output = net(train_x)\n",
    "\n",
    "  loss = loss_func(output, train_y)\n",
    "  loss.backward()\n",
    "  optimizer.step()\n",
    "\n",
    "  y_hat_test = net(test_x)\n",
    "  loss_test = loss_func(y_hat_test, test_y)\n",
    "\n",
    "  train_losses.append(loss.item())\n",
    "  test_losses.append(loss_test.item())\n",
    "  \n",
    "  if epoch % 100 == 0:\n",
    "    print(f\"Loss in epoch {epoch} is {loss.item()}\")\n",
    "\n",
    "print(\"Done training \")"
   ]
  },
  {
   "cell_type": "code",
   "execution_count": 10,
   "metadata": {
    "colab": {
     "base_uri": "https://localhost:8080/",
     "height": 296
    },
    "id": "fMPxG1i873W7",
    "outputId": "8ed83937-f40a-4e0e-a259-e409fff8fc9e"
   },
   "outputs": [
    {
     "data": {
      "text/plain": [
       "Text(0, 0.5, 'loss')"
      ]
     },
     "execution_count": 10,
     "metadata": {},
     "output_type": "execute_result"
    },
    {
     "data": {
      "image/png": "[encoded data removed]",
      "text/plain": [
       "<Figure size 432x288 with 1 Axes>"
      ]
     },
     "metadata": {
      "needs_background": "light"
     },
     "output_type": "display_data"
    }
   ],
   "source": [
    "fig = plt.figure()\n",
    "plt.plot(range(0, no_epochs), train_losses, color='blue')\n",
    "plt.plot(range(0, no_epochs), test_losses, color='red')\n",
    "plt.legend(['Train Loss', \"Test Loss\"], loc='upper right')\n",
    "plt.xlabel('number of epochs')\n",
    "plt.ylabel('loss')"
   ]
  },
  {
   "cell_type": "markdown",
   "metadata": {
    "id": "cN8btFSP3yU2"
   },
   "source": [
    "### 4. Model Evaluation"
   ]
  },
  {
   "cell_type": "markdown",
   "metadata": {},
   "source": [
    "Finally, we check the model accuracy on the test data. For this we predict on the test data, identify the class with the highest score and compare it to the true label."
   ]
  },
  {
   "cell_type": "code",
   "execution_count": 11,
   "metadata": {
    "colab": {
     "base_uri": "https://localhost:8080/"
    },
    "id": "wsmVfo49Kytp",
    "outputId": "73bdda50-20d6-41e3-bb45-ce40c114f6fc"
   },
   "outputs": [
    {
     "name": "stdout",
     "output_type": "stream",
     "text": [
      "Accuarcy is 91.38888888888889%\n"
     ]
    }
   ],
   "source": [
    "net.eval() # set network to evaluation mode\n",
    "y_pred = net(test_x)\n",
    "_, predicted = torch.max(y_pred.data, 1)\n",
    "correct = (predicted == test_y).sum().item()\n",
    "print(f\"Accuarcy is {100. * correct / len(test_x)}%\")"
   ]
  },
  {
   "cell_type": "markdown",
   "metadata": {},
   "source": [
    "### 5. Tasks"
   ]
  },
  {
   "cell_type": "markdown",
   "metadata": {},
   "source": [
    "1. Our accuracy is not so good on the test data. Try the following to improve the model:\n",
    "    - Increase the hidden layer size to 10 neurons, train the model and compare the accuracy on the test data.\n",
    "    - Add a second hidden layer with 5 neurons, train the model and compare the accuracy on the test data.\n",
    "2. Check if you can decrease the training loss even further if you train for more epochs. However, this can easily result in overfitting. To check that, calculate the accuracy on the test data already during training after each epoch. Show the plot the results as a second plot similiar to the one above. (Note: Normally we need to do this check on seperate validation data, not on our test data).\n",
    "3. Take the titanic data set and try to train a neural network on it."
   ]
  },
  {
   "cell_type": "markdown",
   "metadata": {},
   "source": [
    "### Solutions:\n",
    "1. Accuracy can be improved to 81%. See code changes above.\n",
    "2. We can see that test loss does not get better after 2000 epochs"
   ]
  },
  {
   "cell_type": "markdown",
   "metadata": {},
   "source": [
    "#### Task 3: Titanic data"
   ]
  },
  {
   "cell_type": "code",
   "execution_count": 12,
   "metadata": {},
   "outputs": [],
   "source": [
    "import pandas as pd\n",
    "df = pd.read_csv(\"../data/titanic.csv\")\n",
    "df_selection = df[[\"Survived\", \"Pclass\", \"Age\", \"SibSp\", \"Parch\", \"Fare\"]]\n",
    "df_selection = df_selection.dropna()"
   ]
  },
  {
   "cell_type": "code",
   "execution_count": 13,
   "metadata": {},
   "outputs": [],
   "source": [
    "df_X = df_selection.drop(columns = [\"Survived\"]).values\n",
    "df_y = df_selection[\"Survived\"].values\n",
    "train_x, test_x, train_y, test_y = train_test_split(df_X, df_y, test_size=0.2, random_state=0)"
   ]
  },
  {
   "cell_type": "markdown",
   "metadata": {},
   "source": [
    "What is important above is that we transform the Pandas objects into numpy nd-arrays by applying the `.values`, because PyTorch does not really like to create tensors out of Pandas DataFrames or Series."
   ]
  },
  {
   "cell_type": "code",
   "execution_count": 14,
   "metadata": {},
   "outputs": [],
   "source": [
    "train_x = torch.Tensor(train_x).float().to(device)\n",
    "test_x = torch.Tensor(test_x).float().to(device)\n",
    "train_y = torch.Tensor(train_y).long().to(device)\n",
    "test_y = torch.Tensor(test_y).long().to(device)"
   ]
  },
  {
   "cell_type": "code",
   "execution_count": 15,
   "metadata": {},
   "outputs": [],
   "source": [
    "class TitanicNet(nn.Module):\n",
    "  def __init__(self):\n",
    "    super(TitanicNet, self).__init__()\n",
    "    self.hidden = nn.Linear(5, 10)\n",
    "    self.output = nn.Linear(10, 2)\n",
    "\n",
    "  def forward(self, x):\n",
    "    z = F.relu(self.hidden(x))\n",
    "    z = self.output(z)  # no softmax. see CrossEntropyLoss() \n",
    "    return z"
   ]
  },
  {
   "cell_type": "code",
   "execution_count": 16,
   "metadata": {},
   "outputs": [
    {
     "name": "stdout",
     "output_type": "stream",
     "text": [
      "\n",
      "Starting training \n",
      "Loss in epoch 0 is 1.4843826293945312\n",
      "Loss in epoch 100 is 0.5951008200645447\n",
      "Loss in epoch 200 is 0.5931857228279114\n",
      "Loss in epoch 300 is 0.5906314253807068\n",
      "Loss in epoch 400 is 0.5895885229110718\n",
      "Loss in epoch 500 is 0.5888893604278564\n",
      "Loss in epoch 600 is 0.5881949067115784\n",
      "Loss in epoch 700 is 0.5873887538909912\n",
      "Loss in epoch 800 is 0.586796224117279\n",
      "Loss in epoch 900 is 0.5856370329856873\n",
      "Loss in epoch 1000 is 0.5846630930900574\n",
      "Loss in epoch 1100 is 0.585145890712738\n",
      "Loss in epoch 1200 is 0.583357572555542\n",
      "Loss in epoch 1300 is 0.5823001265525818\n",
      "Loss in epoch 1400 is 0.581509530544281\n",
      "Loss in epoch 1500 is 0.579550564289093\n",
      "Loss in epoch 1600 is 0.5784775018692017\n",
      "Loss in epoch 1700 is 0.577573835849762\n",
      "Loss in epoch 1800 is 0.5784035921096802\n",
      "Loss in epoch 1900 is 0.5760794281959534\n",
      "Loss in epoch 2000 is 0.576495885848999\n",
      "Loss in epoch 2100 is 0.575948178768158\n",
      "Loss in epoch 2200 is 0.5760431885719299\n",
      "Loss in epoch 2300 is 0.5781943798065186\n",
      "Loss in epoch 2400 is 0.5762698650360107\n",
      "Loss in epoch 2500 is 0.5756537914276123\n",
      "Loss in epoch 2600 is 0.5770686864852905\n",
      "Loss in epoch 2700 is 0.5739690065383911\n",
      "Loss in epoch 2800 is 0.5738748908042908\n",
      "Loss in epoch 2900 is 0.5759969353675842\n",
      "Loss in epoch 3000 is 0.5732998847961426\n",
      "Loss in epoch 3100 is 0.572851836681366\n",
      "Loss in epoch 3200 is 0.5724315047264099\n",
      "Loss in epoch 3300 is 0.5718771815299988\n",
      "Loss in epoch 3400 is 0.5713542103767395\n",
      "Loss in epoch 3500 is 0.5703055262565613\n",
      "Loss in epoch 3600 is 0.568458080291748\n",
      "Loss in epoch 3700 is 0.5714085698127747\n",
      "Loss in epoch 3800 is 0.5705298185348511\n",
      "Loss in epoch 3900 is 0.5680009722709656\n",
      "Loss in epoch 4000 is 0.5678946375846863\n",
      "Loss in epoch 4100 is 0.5667819976806641\n",
      "Loss in epoch 4200 is 0.5669754147529602\n",
      "Loss in epoch 4300 is 0.5668917894363403\n",
      "Loss in epoch 4400 is 0.5665627121925354\n",
      "Loss in epoch 4500 is 0.565764307975769\n",
      "Loss in epoch 4600 is 0.565635085105896\n",
      "Loss in epoch 4700 is 0.5652162432670593\n",
      "Loss in epoch 4800 is 0.5650262832641602\n",
      "Loss in epoch 4900 is 0.564363420009613\n",
      "Loss in epoch 5000 is 0.5641539096832275\n",
      "Loss in epoch 5100 is 0.5634335279464722\n",
      "Loss in epoch 5200 is 0.5635901093482971\n",
      "Loss in epoch 5300 is 0.5634828805923462\n",
      "Loss in epoch 5400 is 0.56232750415802\n",
      "Loss in epoch 5500 is 0.5617094039916992\n",
      "Loss in epoch 5600 is 0.5618562698364258\n",
      "Loss in epoch 5700 is 0.5614988207817078\n",
      "Loss in epoch 5800 is 0.5609490871429443\n",
      "Loss in epoch 5900 is 0.560783863067627\n",
      "Loss in epoch 6000 is 0.5608983635902405\n",
      "Loss in epoch 6100 is 0.5600097179412842\n",
      "Loss in epoch 6200 is 0.5602139234542847\n",
      "Loss in epoch 6300 is 0.5599461197853088\n",
      "Loss in epoch 6400 is 0.5597438216209412\n",
      "Loss in epoch 6500 is 0.5594180822372437\n",
      "Loss in epoch 6600 is 0.5592231154441833\n",
      "Loss in epoch 6700 is 0.5590662360191345\n",
      "Loss in epoch 6800 is 0.5589684844017029\n",
      "Loss in epoch 6900 is 0.5586779117584229\n",
      "Loss in epoch 7000 is 0.5585594773292542\n",
      "Loss in epoch 7100 is 0.5586243271827698\n",
      "Loss in epoch 7200 is 0.5582560300827026\n",
      "Loss in epoch 7300 is 0.558019757270813\n",
      "Loss in epoch 7400 is 0.5576490163803101\n",
      "Loss in epoch 7500 is 0.5575821995735168\n",
      "Loss in epoch 7600 is 0.5579314231872559\n",
      "Loss in epoch 7700 is 0.5577892661094666\n",
      "Loss in epoch 7800 is 0.5578325986862183\n",
      "Loss in epoch 7900 is 0.5577590465545654\n",
      "Loss in epoch 8000 is 0.5570016503334045\n",
      "Loss in epoch 8100 is 0.5574284791946411\n",
      "Loss in epoch 8200 is 0.5566803812980652\n",
      "Loss in epoch 8300 is 0.5571357607841492\n",
      "Loss in epoch 8400 is 0.5569122433662415\n",
      "Loss in epoch 8500 is 0.556452214717865\n",
      "Loss in epoch 8600 is 0.5561842918395996\n",
      "Loss in epoch 8700 is 0.5563248991966248\n",
      "Loss in epoch 8800 is 0.5558533668518066\n",
      "Loss in epoch 8900 is 0.5563120245933533\n",
      "Loss in epoch 9000 is 0.5560191869735718\n",
      "Loss in epoch 9100 is 0.5558522939682007\n",
      "Loss in epoch 9200 is 0.5553396344184875\n",
      "Loss in epoch 9300 is 0.5550900101661682\n",
      "Loss in epoch 9400 is 0.5551429986953735\n",
      "Loss in epoch 9500 is 0.5549402236938477\n",
      "Loss in epoch 9600 is 0.5548370480537415\n",
      "Loss in epoch 9700 is 0.5546244382858276\n",
      "Loss in epoch 9800 is 0.5548811554908752\n",
      "Loss in epoch 9900 is 0.5548372864723206\n",
      "Done training \n"
     ]
    }
   ],
   "source": [
    "net = TitanicNet().to(device)\n",
    "net.train()\n",
    "\n",
    "# define the parameters for training\n",
    "no_epochs = 10000\n",
    "learning_rate = 0.01\n",
    "loss_func = nn.CrossEntropyLoss()  # applies softmax() internally\n",
    "optimizer = torch.optim.SGD(net.parameters(), lr=learning_rate)\n",
    "\n",
    "print(\"\\nStarting training \")\n",
    "\n",
    "train_losses = []\n",
    "test_losses = []\n",
    "for epoch in range(0, no_epochs):\n",
    "\n",
    "  optimizer.zero_grad()\n",
    "  output = net(train_x)\n",
    "\n",
    "  loss = loss_func(output, train_y)\n",
    "  loss.backward()\n",
    "  optimizer.step()\n",
    "\n",
    "  y_test = net(test_x)\n",
    "  loss_test = loss_func(y_test, test_y)\n",
    "\n",
    "  train_losses.append(loss.item())\n",
    "  test_losses.append(loss_test.item())\n",
    "  \n",
    "  if epoch % 100 == 0:\n",
    "    print(f\"Loss in epoch {epoch} is {loss.item()}\")\n",
    "\n",
    "print(\"Done training \")"
   ]
  },
  {
   "cell_type": "code",
   "execution_count": 17,
   "metadata": {},
   "outputs": [
    {
     "data": {
      "text/plain": [
       "Text(0, 0.5, 'loss')"
      ]
     },
     "execution_count": 17,
     "metadata": {},
     "output_type": "execute_result"
    },
    {
     "data": {
      "image/png": "[encoded data removed]",
      "text/plain": [
       "<Figure size 432x288 with 1 Axes>"
      ]
     },
     "metadata": {
      "needs_background": "light"
     },
     "output_type": "display_data"
    }
   ],
   "source": [
    "fig = plt.figure()\n",
    "plt.plot(range(0, no_epochs), train_losses, color='blue')\n",
    "plt.plot(range(0, no_epochs), test_losses, color='red')\n",
    "plt.legend(['Train Loss', \"Test Loss\"], loc='upper right')\n",
    "plt.xlabel('number of epochs')\n",
    "plt.ylabel('loss')"
   ]
  },
  {
   "cell_type": "code",
   "execution_count": 18,
   "metadata": {},
   "outputs": [
    {
     "name": "stdout",
     "output_type": "stream",
     "text": [
      "Accuarcy is 68.53146853146853%\n"
     ]
    }
   ],
   "source": [
    "y_pred = net(test_x)\n",
    "_, predicted = torch.max(y_pred.data, 1)\n",
    "correct = (predicted == test_y).sum().item()\n",
    "print(f\"Accuarcy is {100. * correct / len(test_x)}%\")"
   ]
  },
  {
   "cell_type": "code",
   "execution_count": null,
   "metadata": {},
   "outputs": [],
   "source": []
  }
 ],
 "metadata": {
  "colab": {
   "authorship_tag": "ABX9TyNB7ogddopYqmFoUzkoa6YX",
   "collapsed_sections": [],
   "include_colab_link": true,
   "name": "4_PyTorch_Example.ipynb",
   "provenance": []
  },
  "kernelspec": {
   "display_name": "Python 3 (ipykernel)",
   "language": "python",
   "name": "python3"
  },
  "language_info": {
   "codemirror_mode": {
    "name": "ipython",
    "version": 3
   },
   "file_extension": ".py",
   "mimetype": "text/x-python",
   "name": "python",
   "nbconvert_exporter": "python",
   "pygments_lexer": "ipython3",
   "version": "3.8.12"
  }
 },
 "nbformat": 4,
 "nbformat_minor": 1
}
