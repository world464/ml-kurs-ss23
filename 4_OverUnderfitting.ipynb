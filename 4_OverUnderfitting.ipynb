{
 "cells": [
  {
   "cell_type": "markdown",
   "metadata": {},
   "source": [
    "# 4. Over und -Underfitting auf den \"Hitters\"-Daten"
   ]
  },
  {
   "cell_type": "markdown",
   "metadata": {},
   "source": [
    "In diesem Notebook wird eine lineare Regression auf dem schon bekannten `Hitters`\n",
    "-Datensatz trainiert. Dabei werden verschiedene Formen der Regularisierung gegen Overfitting eingesetzt.\n",
    "\n",
    "Hinweis: Da das Notebook nur Regularisierung veranschaulichen soll, ist der ML-Worflow in diesem Notebook stark vereinfacht (kein Auffüllen von N/As, kein Feature-Scaling und keine kategorischen Features)."
   ]
  },
  {
   "cell_type": "code",
   "execution_count": 1,
   "metadata": {},
   "outputs": [],
   "source": [
    "import pandas as pd\n",
    "import numpy as np\n",
    "from sklearn.model_selection import train_test_split\n",
    "from sklearn.linear_model import LinearRegression, Ridge, RidgeCV, Lasso, LassoCV\n",
    "from sklearn.metrics import mean_squared_error "
   ]
  },
  {
   "cell_type": "markdown",
   "metadata": {},
   "source": [
    "### Daten laden und vorbereiten"
   ]
  },
  {
   "cell_type": "markdown",
   "metadata": {},
   "source": [
    "Wir laden den `Hitters`-Datensatz und wollen anhand von Attributen von Baseball-Spielern deren Gehalt (Spalte `Salary`) vorhersagen."
   ]
  },
  {
   "cell_type": "code",
   "execution_count": 2,
   "metadata": {},
   "outputs": [
    {
     "data": {
      "text/html": [
       "<div>\n",
       "<style scoped>\n",
       "    .dataframe tbody tr th:only-of-type {\n",
       "        vertical-align: middle;\n",
       "    }\n",
       "\n",
       "    .dataframe tbody tr th {\n",
       "        vertical-align: top;\n",
       "    }\n",
       "\n",
       "    .dataframe thead th {\n",
       "        text-align: right;\n",
       "    }\n",
       "</style>\n",
       "<table border=\"1\" class=\"dataframe\">\n",
       "  <thead>\n",
       "    <tr style=\"text-align: right;\">\n",
       "      <th></th>\n",
       "      <th>AtBat</th>\n",
       "      <th>Hits</th>\n",
       "      <th>HmRun</th>\n",
       "      <th>Runs</th>\n",
       "      <th>RBI</th>\n",
       "      <th>Walks</th>\n",
       "      <th>Years</th>\n",
       "      <th>CAtBat</th>\n",
       "      <th>CHits</th>\n",
       "      <th>CHmRun</th>\n",
       "      <th>CRuns</th>\n",
       "      <th>CRBI</th>\n",
       "      <th>CWalks</th>\n",
       "      <th>PutOuts</th>\n",
       "      <th>Assists</th>\n",
       "      <th>Errors</th>\n",
       "      <th>Salary</th>\n",
       "    </tr>\n",
       "  </thead>\n",
       "  <tbody>\n",
       "    <tr>\n",
       "      <th>1</th>\n",
       "      <td>315</td>\n",
       "      <td>81</td>\n",
       "      <td>7</td>\n",
       "      <td>24</td>\n",
       "      <td>38</td>\n",
       "      <td>39</td>\n",
       "      <td>14</td>\n",
       "      <td>3449</td>\n",
       "      <td>835</td>\n",
       "      <td>69</td>\n",
       "      <td>321</td>\n",
       "      <td>414</td>\n",
       "      <td>375</td>\n",
       "      <td>632</td>\n",
       "      <td>43</td>\n",
       "      <td>10</td>\n",
       "      <td>475.0</td>\n",
       "    </tr>\n",
       "    <tr>\n",
       "      <th>2</th>\n",
       "      <td>479</td>\n",
       "      <td>130</td>\n",
       "      <td>18</td>\n",
       "      <td>66</td>\n",
       "      <td>72</td>\n",
       "      <td>76</td>\n",
       "      <td>3</td>\n",
       "      <td>1624</td>\n",
       "      <td>457</td>\n",
       "      <td>63</td>\n",
       "      <td>224</td>\n",
       "      <td>266</td>\n",
       "      <td>263</td>\n",
       "      <td>880</td>\n",
       "      <td>82</td>\n",
       "      <td>14</td>\n",
       "      <td>480.0</td>\n",
       "    </tr>\n",
       "    <tr>\n",
       "      <th>3</th>\n",
       "      <td>496</td>\n",
       "      <td>141</td>\n",
       "      <td>20</td>\n",
       "      <td>65</td>\n",
       "      <td>78</td>\n",
       "      <td>37</td>\n",
       "      <td>11</td>\n",
       "      <td>5628</td>\n",
       "      <td>1575</td>\n",
       "      <td>225</td>\n",
       "      <td>828</td>\n",
       "      <td>838</td>\n",
       "      <td>354</td>\n",
       "      <td>200</td>\n",
       "      <td>11</td>\n",
       "      <td>3</td>\n",
       "      <td>500.0</td>\n",
       "    </tr>\n",
       "    <tr>\n",
       "      <th>4</th>\n",
       "      <td>321</td>\n",
       "      <td>87</td>\n",
       "      <td>10</td>\n",
       "      <td>39</td>\n",
       "      <td>42</td>\n",
       "      <td>30</td>\n",
       "      <td>2</td>\n",
       "      <td>396</td>\n",
       "      <td>101</td>\n",
       "      <td>12</td>\n",
       "      <td>48</td>\n",
       "      <td>46</td>\n",
       "      <td>33</td>\n",
       "      <td>805</td>\n",
       "      <td>40</td>\n",
       "      <td>4</td>\n",
       "      <td>91.5</td>\n",
       "    </tr>\n",
       "    <tr>\n",
       "      <th>5</th>\n",
       "      <td>594</td>\n",
       "      <td>169</td>\n",
       "      <td>4</td>\n",
       "      <td>74</td>\n",
       "      <td>51</td>\n",
       "      <td>35</td>\n",
       "      <td>11</td>\n",
       "      <td>4408</td>\n",
       "      <td>1133</td>\n",
       "      <td>19</td>\n",
       "      <td>501</td>\n",
       "      <td>336</td>\n",
       "      <td>194</td>\n",
       "      <td>282</td>\n",
       "      <td>421</td>\n",
       "      <td>25</td>\n",
       "      <td>750.0</td>\n",
       "    </tr>\n",
       "  </tbody>\n",
       "</table>\n",
       "</div>"
      ],
      "text/plain": [
       "   AtBat  Hits  HmRun  Runs  RBI  Walks  Years  CAtBat  CHits  CHmRun  CRuns  \\\n",
       "1    315    81      7    24   38     39     14    3449    835      69    321   \n",
       "2    479   130     18    66   72     76      3    1624    457      63    224   \n",
       "3    496   141     20    65   78     37     11    5628   1575     225    828   \n",
       "4    321    87     10    39   42     30      2     396    101      12     48   \n",
       "5    594   169      4    74   51     35     11    4408   1133      19    501   \n",
       "\n",
       "   CRBI  CWalks  PutOuts  Assists  Errors  Salary  \n",
       "1   414     375      632       43      10   475.0  \n",
       "2   266     263      880       82      14   480.0  \n",
       "3   838     354      200       11       3   500.0  \n",
       "4    46      33      805       40       4    91.5  \n",
       "5   336     194      282      421      25   750.0  "
      ]
     },
     "execution_count": 2,
     "metadata": {},
     "output_type": "execute_result"
    }
   ],
   "source": [
    "df = pd.read_csv('data/hitters.csv')\n",
    "df = df.dropna()\n",
    "df = df.drop([\"Player\", \"League\", \"Division\", \"NewLeague\"], axis=1)\n",
    "df.head()"
   ]
  },
  {
   "cell_type": "code",
   "execution_count": 3,
   "metadata": {},
   "outputs": [],
   "source": [
    "X = df.drop(['Salary'], axis=1)\n",
    "y = df[\"Salary\"]\n",
    "X_train, X_test , y_train, y_test = train_test_split(X, y, test_size=0.2, random_state=0)"
   ]
  },
  {
   "cell_type": "markdown",
   "metadata": {},
   "source": [
    "### Lineare Regression"
   ]
  },
  {
   "cell_type": "code",
   "execution_count": 4,
   "metadata": {},
   "outputs": [],
   "source": [
    "reg = LinearRegression()\n",
    "reg.fit(X_train, y_train);"
   ]
  },
  {
   "cell_type": "markdown",
   "metadata": {},
   "source": [
    "Als nächstes schauen wir auf den MSE auf den Testdaten und die trainierten Gewichte der Features:"
   ]
  },
  {
   "cell_type": "code",
   "execution_count": 5,
   "metadata": {},
   "outputs": [
    {
     "name": "stdout",
     "output_type": "stream",
     "text": [
      "Mean squared error: 132925.00445295303\n",
      "Gewichte der Features:\n",
      "AtBat     -2.015452\n",
      "Hits       7.520141\n",
      "HmRun      9.312551\n",
      "Runs      -1.719625\n",
      "RBI       -2.340944\n",
      "Walks      7.285795\n",
      "Years      7.682881\n",
      "CAtBat    -0.165969\n",
      "CHits      0.274872\n",
      "CHmRun    -0.531528\n",
      "CRuns      1.164023\n",
      "CRBI       0.653199\n",
      "CWalks    -0.828976\n",
      "PutOuts    0.198798\n",
      "Assists    0.452282\n",
      "Errors    -5.308274\n",
      "dtype: float64\n",
      "Summe der absoluten Gewichte: 47.455309856502716\n"
     ]
    }
   ],
   "source": [
    "pred = reg.predict(X_test)\n",
    "print(\"Mean squared error:\", mean_squared_error(y_test, pred))\n",
    "print(\"Gewichte der Features:\")\n",
    "print(pd.Series(reg.coef_, index=X.columns))\n",
    "\n",
    "sum_weights = sum(np.absolute(reg.coef_))\n",
    "print(\"Summe der absoluten Gewichte:\", sum_weights)"
   ]
  },
  {
   "cell_type": "markdown",
   "metadata": {},
   "source": [
    "### Ridge Regression"
   ]
  },
  {
   "cell_type": "markdown",
   "metadata": {},
   "source": [
    "Wir trainieren nun eine Ridge-Regression um beim Training eine L2-Regularisierung zu verwenden. Dazu probieren wir zuerst den Parameter $ \\alpha = 100$ als Gewichtung für den Regressionsterm aus."
   ]
  },
  {
   "cell_type": "code",
   "execution_count": 6,
   "metadata": {},
   "outputs": [],
   "source": [
    "from sklearn.linear_model import Ridge\n",
    "\n",
    "ridge = Ridge(alpha = 100)\n",
    "ridge.fit(X_train, y_train);"
   ]
  },
  {
   "cell_type": "markdown",
   "metadata": {},
   "source": [
    "Wir schauen wieder auf den MSE auf den Testdaten und die Gewichte der Features:"
   ]
  },
  {
   "cell_type": "code",
   "execution_count": 7,
   "metadata": {},
   "outputs": [
    {
     "name": "stdout",
     "output_type": "stream",
     "text": [
      "Mean squared error: 131901.31364642704\n",
      "Gewichte der Features:\n",
      "AtBat     -2.017375\n",
      "Hits       7.412108\n",
      "HmRun      8.636404\n",
      "Runs      -1.540755\n",
      "RBI       -2.105771\n",
      "Walks      7.192270\n",
      "Years      6.426333\n",
      "CAtBat    -0.161598\n",
      "CHits      0.285102\n",
      "CHmRun    -0.452459\n",
      "CRuns      1.134987\n",
      "CRBI       0.625129\n",
      "CWalks    -0.818690\n",
      "PutOuts    0.199536\n",
      "Assists    0.446716\n",
      "Errors    -5.237216\n",
      "dtype: float64\n",
      "Summe der absoluten Gewichte: 44.69244920434879\n"
     ]
    }
   ],
   "source": [
    "pred = ridge.predict(X_test)          \n",
    "print(\"Mean squared error:\", mean_squared_error(y_test, pred))\n",
    "print(\"Gewichte der Features:\")\n",
    "print(pd.Series(ridge.coef_, index = X.columns))\n",
    "print(\"Summe der absoluten Gewichte:\", sum(np.absolute(ridge.coef_)))"
   ]
  },
  {
   "cell_type": "markdown",
   "metadata": {},
   "source": [
    "Wir sehen, dass die Gewichte im Schnitt kleiner sind und dass wir den Test-MSE verringern konnten."
   ]
  },
  {
   "cell_type": "markdown",
   "metadata": {},
   "source": [
    "Testweise probieren wir einen höheren Wert für $ \\alpha $ aus:"
   ]
  },
  {
   "cell_type": "code",
   "execution_count": 8,
   "metadata": {},
   "outputs": [
    {
     "name": "stdout",
     "output_type": "stream",
     "text": [
      "Mean squared error: 281106.82640631875\n",
      "AtBat      5.245567e-04\n",
      "Hits       1.808956e-04\n",
      "HmRun      2.583309e-05\n",
      "Runs       9.702965e-05\n",
      "RBI        9.134841e-05\n",
      "Walks      7.854807e-05\n",
      "Years      1.383971e-05\n",
      "CAtBat     8.791470e-03\n",
      "CHits      2.628744e-03\n",
      "CHmRun     2.581522e-04\n",
      "CRuns      1.357800e-03\n",
      "CRBI       1.230443e-03\n",
      "CWalks     9.105701e-04\n",
      "PutOuts    6.469467e-04\n",
      "Assists    9.068915e-05\n",
      "Errors     8.876302e-08\n",
      "dtype: float64\n",
      "Summe der absoluten Gewichte: 0.016926954821158316\n"
     ]
    }
   ],
   "source": [
    "ridge_high = Ridge(alpha = 10**10)\n",
    "ridge_high.fit(X_train, y_train)             \n",
    "pred_high = ridge_high.predict(X_test)\n",
    "print(\"Mean squared error:\", mean_squared_error(y_test, pred_high))\n",
    "print(pd.Series(ridge_high.coef_, index = X.columns)) \n",
    "print(\"Summe der absoluten Gewichte:\", sum(np.absolute(ridge_high.coef_)))"
   ]
  },
  {
   "cell_type": "markdown",
   "metadata": {},
   "source": [
    "Wir sehen, dass die Gewichte jetzt alle auf nahezu Null gedrückt werden, der MSE aber dadurch riesig wird.\n",
    "Die Frage ist daher, mit welchem Wert für $ \\alpha $ können wir die besten Ergebnisse erzielen?"
   ]
  },
  {
   "cell_type": "markdown",
   "metadata": {},
   "source": [
    "Mit Hilfe der \"Cross Validation\"-Klassen können wir automatisch verschiedene $\\alpha$-Werte testen und bekommen den besten Wert auf den Validierungsdaten zurück.\n",
    "Dazu erstellen wir im ersten Schritt eine Kandidatenmenge für $ \\alpha $:"
   ]
  },
  {
   "cell_type": "code",
   "execution_count": 9,
   "metadata": {},
   "outputs": [
    {
     "name": "stdout",
     "output_type": "stream",
     "text": [
      "Teste 9999 verschiedene Werte für Alpha\n"
     ]
    }
   ],
   "source": [
    "alphas = list(range(1, 10000))\n",
    "print(f\"Teste {len(alphas)} verschiedene Werte für Alpha\")"
   ]
  },
  {
   "cell_type": "markdown",
   "metadata": {},
   "source": [
    "Die Klasse `RidgeCV` führt automatisch eine 5-fold Cross-Validation durch und bestimmt so den besten Parameter für $\\alpha$:"
   ]
  },
  {
   "cell_type": "code",
   "execution_count": 10,
   "metadata": {},
   "outputs": [
    {
     "data": {
      "text/plain": [
       "4760"
      ]
     },
     "execution_count": 10,
     "metadata": {},
     "output_type": "execute_result"
    }
   ],
   "source": [
    "ridgecv = RidgeCV(alphas=alphas)\n",
    "ridgecv.fit(X_train, y_train)\n",
    "ridgecv.alpha_ # bester Parameter"
   ]
  },
  {
   "cell_type": "markdown",
   "metadata": {},
   "source": [
    "Mit diesem Modell machen wir Vorhersagen auf den Testdaten und schauen uns den MSE an:"
   ]
  },
  {
   "cell_type": "code",
   "execution_count": 11,
   "metadata": {},
   "outputs": [
    {
     "name": "stdout",
     "output_type": "stream",
     "text": [
      "MSE ist: 124328.37417087941\n"
     ]
    }
   ],
   "source": [
    "mse = mean_squared_error(y_test, ridgecv.predict(X_test))\n",
    "print(\"MSE ist: \" + str(mse))"
   ]
  },
  {
   "cell_type": "markdown",
   "metadata": {},
   "source": [
    "### Lasso Regression"
   ]
  },
  {
   "cell_type": "markdown",
   "metadata": {},
   "source": [
    "Wie in der Vorlesung gesehen, minimiert Lasso-Regularisierung die Gewichte in dem es versucht einige Gewichtswerte auf Null zu bringen. Auch hier führen wir eine CV durch:"
   ]
  },
  {
   "cell_type": "code",
   "execution_count": 12,
   "metadata": {
    "scrolled": true
   },
   "outputs": [
    {
     "name": "stdout",
     "output_type": "stream",
     "text": [
      "Mean squared error: 129381.15596025463\n",
      "Gewichte der Feature:\n"
     ]
    },
    {
     "data": {
      "text/plain": [
       "AtBat     -0.000000\n",
       "Hits       1.818999\n",
       "HmRun      0.000000\n",
       "Runs       0.000000\n",
       "RBI        0.000000\n",
       "Walks      1.791831\n",
       "Years      0.000000\n",
       "CAtBat    -0.241001\n",
       "CHits      0.727059\n",
       "CHmRun     0.000000\n",
       "CRuns      0.530056\n",
       "CRBI       0.416534\n",
       "CWalks    -0.084698\n",
       "PutOuts    0.181185\n",
       "Assists    0.077650\n",
       "Errors    -0.000000\n",
       "dtype: float64"
      ]
     },
     "execution_count": 12,
     "metadata": {},
     "output_type": "execute_result"
    }
   ],
   "source": [
    "lassocv = LassoCV(alphas = alphas, max_iter = 100000)\n",
    "lassocv.fit(X_train, y_train)\n",
    "mse = mean_squared_error(y_test, lassocv.predict(X_test))\n",
    "print(\"Mean squared error:\", mse)\n",
    "print(\"Gewichte der Feature:\")\n",
    "pd.Series(lassocv.coef_, index=X.columns)"
   ]
  },
  {
   "cell_type": "markdown",
   "metadata": {},
   "source": [
    "Wir sehen, dass einige Features (z.B. `AtBat` oder `Years`) jetzt den Gewichtswert `0` haben, d.h. sie tragen nicht mehr zur Vorhersage bei. Der MSE wird ein jedoch ein klein wenig schlechter als bei der Ridge-Regression."
   ]
  }
 ],
 "metadata": {
  "kernelspec": {
   "display_name": "Python 3 (ipykernel)",
   "language": "python",
   "name": "python3"
  },
  "language_info": {
   "codemirror_mode": {
    "name": "ipython",
    "version": 3
   },
   "file_extension": ".py",
   "mimetype": "text/x-python",
   "name": "python",
   "nbconvert_exporter": "python",
   "pygments_lexer": "ipython3",
   "version": "3.8.16"
  }
 },
 "nbformat": 4,
 "nbformat_minor": 2
}
