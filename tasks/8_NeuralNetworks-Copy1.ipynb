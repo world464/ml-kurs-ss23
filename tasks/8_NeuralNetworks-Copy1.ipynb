{
 "cells": [
  {
   "cell_type": "markdown",
   "metadata": {
    "id": "TOBUyiZq3d2u"
   },
   "source": [
    "# Notebook 8: Neural Networks\n",
    "This example classifies the digit dataset using a neural network.\n"
   ]
  },
  {
   "cell_type": "markdown",
   "metadata": {},
   "source": [
    "To make this run, you need to install PyTorch with `conda install pytorch` or `pip3 install torch` depending on your setup."
   ]
  },
  {
   "cell_type": "markdown",
   "metadata": {
    "id": "LhdvnPe4Q-pO"
   },
   "source": [
    "### 0. Preamble"
   ]
  },
  {
   "cell_type": "code",
   "execution_count": 6,
   "metadata": {},
   "outputs": [
    {
     "name": "stdout",
     "output_type": "stream",
     "text": [
      "Requirement already satisfied: torch in c:\\users\\zebra\\miniconda3\\envs\\ml-course\\lib\\site-packages (2.0.1)\n",
      "Requirement already satisfied: filelock in c:\\users\\zebra\\miniconda3\\envs\\ml-course\\lib\\site-packages (from torch) (3.12.2)\n",
      "Requirement already satisfied: typing-extensions in c:\\users\\zebra\\miniconda3\\envs\\ml-course\\lib\\site-packages (from torch) (4.4.0)\n",
      "Requirement already satisfied: sympy in c:\\users\\zebra\\miniconda3\\envs\\ml-course\\lib\\site-packages (from torch) (1.12)\n",
      "Requirement already satisfied: jinja2 in c:\\users\\zebra\\miniconda3\\envs\\ml-course\\lib\\site-packages (from torch) (3.1.2)\n",
      "Requirement already satisfied: networkx in c:\\users\\zebra\\miniconda3\\envs\\ml-course\\lib\\site-packages (from torch) (3.1)\n",
      "Requirement already satisfied: MarkupSafe>=2.0 in c:\\users\\zebra\\miniconda3\\envs\\ml-course\\lib\\site-packages (from jinja2->torch) (2.1.1)\n",
      "Requirement already satisfied: mpmath>=0.19 in c:\\users\\zebra\\miniconda3\\envs\\ml-course\\lib\\site-packages (from sympy->torch) (1.3.0)\n"
     ]
    }
   ],
   "source": [
    "!pip install torch "
   ]
  },
  {
   "cell_type": "code",
   "execution_count": 7,
   "metadata": {
    "id": "K8-YOrlu3w8z"
   },
   "outputs": [],
   "source": [
    "import numpy as np\n",
    "import torch\n",
    "import torch.nn.functional as F\n",
    "import torch.nn as nn\n",
    "import matplotlib.pyplot as plt\n",
    "\n",
    "torch.manual_seed(1)\n",
    "np.random.seed(1)"
   ]
  },
  {
   "cell_type": "markdown",
   "metadata": {},
   "source": [
    "The following lines checks for GPU availability on the machine and sets the GPU as processing device (if available).\n",
    "No worries if you have no GPU available, CPU works also fine for this small example."
   ]
  },
  {
   "cell_type": "code",
   "execution_count": 8,
   "metadata": {
    "colab": {
     "base_uri": "https://localhost:8080/"
    },
    "id": "S3DgoJj735Gr",
    "outputId": "e56e337f-c44f-4bc3-c1ae-e532bb999356"
   },
   "outputs": [
    {
     "name": "stdout",
     "output_type": "stream",
     "text": [
      "No GPU available\n"
     ]
    },
    {
     "data": {
      "text/plain": [
       "device(type='cpu')"
      ]
     },
     "execution_count": 8,
     "metadata": {},
     "output_type": "execute_result"
    }
   ],
   "source": [
    "if(torch.cuda.is_available()):\n",
    "  processing_chip = \"cuda:0\"\n",
    "  print(f\"{torch.cuda.get_device_name(0)} available\")\n",
    "else:\n",
    "  processing_chip = \"cpu\"\n",
    "  print(\"No GPU available\")\n",
    "\n",
    "device = torch.device(processing_chip)\n",
    "device"
   ]
  },
  {
   "cell_type": "markdown",
   "metadata": {
    "id": "Y8EgmXccAr9b"
   },
   "source": [
    "### 1. Data Preperation"
   ]
  },
  {
   "cell_type": "markdown",
   "metadata": {},
   "source": [
    "We work with the already know digit dataset, where our class is to determine which number is shown on the image. For more details on the dataset, check our previous notebook `2_Logistische_Regression_Digits`."
   ]
  },
  {
   "cell_type": "code",
   "execution_count": 10,
   "metadata": {},
   "outputs": [
    {
     "data": {
      "text/html": [
       "<div>\n",
       "<style scoped>\n",
       "    .dataframe tbody tr th:only-of-type {\n",
       "        vertical-align: middle;\n",
       "    }\n",
       "\n",
       "    .dataframe tbody tr th {\n",
       "        vertical-align: top;\n",
       "    }\n",
       "\n",
       "    .dataframe thead th {\n",
       "        text-align: right;\n",
       "    }\n",
       "</style>\n",
       "<table border=\"1\" class=\"dataframe\">\n",
       "  <thead>\n",
       "    <tr style=\"text-align: right;\">\n",
       "      <th></th>\n",
       "      <th>pixel_0_0</th>\n",
       "      <th>pixel_0_1</th>\n",
       "      <th>pixel_0_2</th>\n",
       "      <th>pixel_0_3</th>\n",
       "      <th>pixel_0_4</th>\n",
       "      <th>pixel_0_5</th>\n",
       "      <th>pixel_0_6</th>\n",
       "      <th>pixel_0_7</th>\n",
       "      <th>pixel_1_0</th>\n",
       "      <th>pixel_1_1</th>\n",
       "      <th>...</th>\n",
       "      <th>pixel_6_7</th>\n",
       "      <th>pixel_7_0</th>\n",
       "      <th>pixel_7_1</th>\n",
       "      <th>pixel_7_2</th>\n",
       "      <th>pixel_7_3</th>\n",
       "      <th>pixel_7_4</th>\n",
       "      <th>pixel_7_5</th>\n",
       "      <th>pixel_7_6</th>\n",
       "      <th>pixel_7_7</th>\n",
       "      <th>label</th>\n",
       "    </tr>\n",
       "  </thead>\n",
       "  <tbody>\n",
       "    <tr>\n",
       "      <th>0</th>\n",
       "      <td>0.0</td>\n",
       "      <td>0.0</td>\n",
       "      <td>5.0</td>\n",
       "      <td>13.0</td>\n",
       "      <td>9.0</td>\n",
       "      <td>1.0</td>\n",
       "      <td>0.0</td>\n",
       "      <td>0.0</td>\n",
       "      <td>0.0</td>\n",
       "      <td>0.0</td>\n",
       "      <td>...</td>\n",
       "      <td>0.0</td>\n",
       "      <td>0.0</td>\n",
       "      <td>0.0</td>\n",
       "      <td>6.0</td>\n",
       "      <td>13.0</td>\n",
       "      <td>10.0</td>\n",
       "      <td>0.0</td>\n",
       "      <td>0.0</td>\n",
       "      <td>0.0</td>\n",
       "      <td>0</td>\n",
       "    </tr>\n",
       "    <tr>\n",
       "      <th>1</th>\n",
       "      <td>0.0</td>\n",
       "      <td>0.0</td>\n",
       "      <td>0.0</td>\n",
       "      <td>12.0</td>\n",
       "      <td>13.0</td>\n",
       "      <td>5.0</td>\n",
       "      <td>0.0</td>\n",
       "      <td>0.0</td>\n",
       "      <td>0.0</td>\n",
       "      <td>0.0</td>\n",
       "      <td>...</td>\n",
       "      <td>0.0</td>\n",
       "      <td>0.0</td>\n",
       "      <td>0.0</td>\n",
       "      <td>0.0</td>\n",
       "      <td>11.0</td>\n",
       "      <td>16.0</td>\n",
       "      <td>10.0</td>\n",
       "      <td>0.0</td>\n",
       "      <td>0.0</td>\n",
       "      <td>1</td>\n",
       "    </tr>\n",
       "    <tr>\n",
       "      <th>2</th>\n",
       "      <td>0.0</td>\n",
       "      <td>0.0</td>\n",
       "      <td>0.0</td>\n",
       "      <td>4.0</td>\n",
       "      <td>15.0</td>\n",
       "      <td>12.0</td>\n",
       "      <td>0.0</td>\n",
       "      <td>0.0</td>\n",
       "      <td>0.0</td>\n",
       "      <td>0.0</td>\n",
       "      <td>...</td>\n",
       "      <td>0.0</td>\n",
       "      <td>0.0</td>\n",
       "      <td>0.0</td>\n",
       "      <td>0.0</td>\n",
       "      <td>3.0</td>\n",
       "      <td>11.0</td>\n",
       "      <td>16.0</td>\n",
       "      <td>9.0</td>\n",
       "      <td>0.0</td>\n",
       "      <td>2</td>\n",
       "    </tr>\n",
       "    <tr>\n",
       "      <th>3</th>\n",
       "      <td>0.0</td>\n",
       "      <td>0.0</td>\n",
       "      <td>7.0</td>\n",
       "      <td>15.0</td>\n",
       "      <td>13.0</td>\n",
       "      <td>1.0</td>\n",
       "      <td>0.0</td>\n",
       "      <td>0.0</td>\n",
       "      <td>0.0</td>\n",
       "      <td>8.0</td>\n",
       "      <td>...</td>\n",
       "      <td>0.0</td>\n",
       "      <td>0.0</td>\n",
       "      <td>0.0</td>\n",
       "      <td>7.0</td>\n",
       "      <td>13.0</td>\n",
       "      <td>13.0</td>\n",
       "      <td>9.0</td>\n",
       "      <td>0.0</td>\n",
       "      <td>0.0</td>\n",
       "      <td>3</td>\n",
       "    </tr>\n",
       "    <tr>\n",
       "      <th>4</th>\n",
       "      <td>0.0</td>\n",
       "      <td>0.0</td>\n",
       "      <td>0.0</td>\n",
       "      <td>1.0</td>\n",
       "      <td>11.0</td>\n",
       "      <td>0.0</td>\n",
       "      <td>0.0</td>\n",
       "      <td>0.0</td>\n",
       "      <td>0.0</td>\n",
       "      <td>0.0</td>\n",
       "      <td>...</td>\n",
       "      <td>0.0</td>\n",
       "      <td>0.0</td>\n",
       "      <td>0.0</td>\n",
       "      <td>0.0</td>\n",
       "      <td>2.0</td>\n",
       "      <td>16.0</td>\n",
       "      <td>4.0</td>\n",
       "      <td>0.0</td>\n",
       "      <td>0.0</td>\n",
       "      <td>4</td>\n",
       "    </tr>\n",
       "  </tbody>\n",
       "</table>\n",
       "<p>5 rows × 65 columns</p>\n",
       "</div>"
      ],
      "text/plain": [
       "   pixel_0_0  pixel_0_1  pixel_0_2  pixel_0_3  pixel_0_4  pixel_0_5  \\\n",
       "0        0.0        0.0        5.0       13.0        9.0        1.0   \n",
       "1        0.0        0.0        0.0       12.0       13.0        5.0   \n",
       "2        0.0        0.0        0.0        4.0       15.0       12.0   \n",
       "3        0.0        0.0        7.0       15.0       13.0        1.0   \n",
       "4        0.0        0.0        0.0        1.0       11.0        0.0   \n",
       "\n",
       "   pixel_0_6  pixel_0_7  pixel_1_0  pixel_1_1  ...  pixel_6_7  pixel_7_0  \\\n",
       "0        0.0        0.0        0.0        0.0  ...        0.0        0.0   \n",
       "1        0.0        0.0        0.0        0.0  ...        0.0        0.0   \n",
       "2        0.0        0.0        0.0        0.0  ...        0.0        0.0   \n",
       "3        0.0        0.0        0.0        8.0  ...        0.0        0.0   \n",
       "4        0.0        0.0        0.0        0.0  ...        0.0        0.0   \n",
       "\n",
       "   pixel_7_1  pixel_7_2  pixel_7_3  pixel_7_4  pixel_7_5  pixel_7_6  \\\n",
       "0        0.0        6.0       13.0       10.0        0.0        0.0   \n",
       "1        0.0        0.0       11.0       16.0       10.0        0.0   \n",
       "2        0.0        0.0        3.0       11.0       16.0        9.0   \n",
       "3        0.0        7.0       13.0       13.0        9.0        0.0   \n",
       "4        0.0        0.0        2.0       16.0        4.0        0.0   \n",
       "\n",
       "   pixel_7_7  label  \n",
       "0        0.0      0  \n",
       "1        0.0      1  \n",
       "2        0.0      2  \n",
       "3        0.0      3  \n",
       "4        0.0      4  \n",
       "\n",
       "[5 rows x 65 columns]"
      ]
     },
     "execution_count": 10,
     "metadata": {},
     "output_type": "execute_result"
    }
   ],
   "source": [
    "import pandas as pd\n",
    "data = pd.read_csv(\"../data/digits.csv\")\n",
    "data.head()"
   ]
  },
  {
   "cell_type": "code",
   "execution_count": 11,
   "metadata": {
    "id": "DZoYUZfQ_TU8"
   },
   "outputs": [],
   "source": [
    "X = data.drop([\"label\"], axis=1)\n",
    "y = data[\"label\"]"
   ]
  },
  {
   "cell_type": "code",
   "execution_count": 12,
   "metadata": {
    "id": "KfY2iF0WTlWu"
   },
   "outputs": [],
   "source": [
    "from sklearn.model_selection import train_test_split\n",
    "train_X, test_X, train_y, test_y = train_test_split(X, y, test_size=0.2, random_state=0)"
   ]
  },
  {
   "cell_type": "code",
   "execution_count": 13,
   "metadata": {
    "colab": {
     "base_uri": "https://localhost:8080/"
    },
    "id": "fQqdZZ16AHBe",
    "outputId": "75f7aff9-a647-4010-bafa-8141fc7aa46d"
   },
   "outputs": [
    {
     "data": {
      "text/html": [
       "<div>\n",
       "<style scoped>\n",
       "    .dataframe tbody tr th:only-of-type {\n",
       "        vertical-align: middle;\n",
       "    }\n",
       "\n",
       "    .dataframe tbody tr th {\n",
       "        vertical-align: top;\n",
       "    }\n",
       "\n",
       "    .dataframe thead th {\n",
       "        text-align: right;\n",
       "    }\n",
       "</style>\n",
       "<table border=\"1\" class=\"dataframe\">\n",
       "  <thead>\n",
       "    <tr style=\"text-align: right;\">\n",
       "      <th></th>\n",
       "      <th>pixel_0_0</th>\n",
       "      <th>pixel_0_1</th>\n",
       "      <th>pixel_0_2</th>\n",
       "      <th>pixel_0_3</th>\n",
       "      <th>pixel_0_4</th>\n",
       "      <th>pixel_0_5</th>\n",
       "      <th>pixel_0_6</th>\n",
       "      <th>pixel_0_7</th>\n",
       "      <th>pixel_1_0</th>\n",
       "      <th>pixel_1_1</th>\n",
       "      <th>...</th>\n",
       "      <th>pixel_6_6</th>\n",
       "      <th>pixel_6_7</th>\n",
       "      <th>pixel_7_0</th>\n",
       "      <th>pixel_7_1</th>\n",
       "      <th>pixel_7_2</th>\n",
       "      <th>pixel_7_3</th>\n",
       "      <th>pixel_7_4</th>\n",
       "      <th>pixel_7_5</th>\n",
       "      <th>pixel_7_6</th>\n",
       "      <th>pixel_7_7</th>\n",
       "    </tr>\n",
       "  </thead>\n",
       "  <tbody>\n",
       "    <tr>\n",
       "      <th>1109</th>\n",
       "      <td>0.0</td>\n",
       "      <td>0.0</td>\n",
       "      <td>0.0</td>\n",
       "      <td>9.0</td>\n",
       "      <td>15.0</td>\n",
       "      <td>2.0</td>\n",
       "      <td>0.0</td>\n",
       "      <td>0.0</td>\n",
       "      <td>0.0</td>\n",
       "      <td>0.0</td>\n",
       "      <td>...</td>\n",
       "      <td>15.0</td>\n",
       "      <td>6.0</td>\n",
       "      <td>0.0</td>\n",
       "      <td>0.0</td>\n",
       "      <td>0.0</td>\n",
       "      <td>7.0</td>\n",
       "      <td>15.0</td>\n",
       "      <td>16.0</td>\n",
       "      <td>16.0</td>\n",
       "      <td>6.0</td>\n",
       "    </tr>\n",
       "    <tr>\n",
       "      <th>940</th>\n",
       "      <td>0.0</td>\n",
       "      <td>3.0</td>\n",
       "      <td>12.0</td>\n",
       "      <td>12.0</td>\n",
       "      <td>14.0</td>\n",
       "      <td>4.0</td>\n",
       "      <td>0.0</td>\n",
       "      <td>0.0</td>\n",
       "      <td>0.0</td>\n",
       "      <td>1.0</td>\n",
       "      <td>...</td>\n",
       "      <td>8.0</td>\n",
       "      <td>0.0</td>\n",
       "      <td>0.0</td>\n",
       "      <td>2.0</td>\n",
       "      <td>13.0</td>\n",
       "      <td>16.0</td>\n",
       "      <td>16.0</td>\n",
       "      <td>16.0</td>\n",
       "      <td>2.0</td>\n",
       "      <td>0.0</td>\n",
       "    </tr>\n",
       "    <tr>\n",
       "      <th>192</th>\n",
       "      <td>0.0</td>\n",
       "      <td>1.0</td>\n",
       "      <td>10.0</td>\n",
       "      <td>15.0</td>\n",
       "      <td>16.0</td>\n",
       "      <td>13.0</td>\n",
       "      <td>3.0</td>\n",
       "      <td>0.0</td>\n",
       "      <td>0.0</td>\n",
       "      <td>5.0</td>\n",
       "      <td>...</td>\n",
       "      <td>0.0</td>\n",
       "      <td>0.0</td>\n",
       "      <td>0.0</td>\n",
       "      <td>0.0</td>\n",
       "      <td>15.0</td>\n",
       "      <td>13.0</td>\n",
       "      <td>7.0</td>\n",
       "      <td>0.0</td>\n",
       "      <td>0.0</td>\n",
       "      <td>0.0</td>\n",
       "    </tr>\n",
       "    <tr>\n",
       "      <th>260</th>\n",
       "      <td>0.0</td>\n",
       "      <td>0.0</td>\n",
       "      <td>0.0</td>\n",
       "      <td>12.0</td>\n",
       "      <td>4.0</td>\n",
       "      <td>0.0</td>\n",
       "      <td>0.0</td>\n",
       "      <td>0.0</td>\n",
       "      <td>0.0</td>\n",
       "      <td>0.0</td>\n",
       "      <td>...</td>\n",
       "      <td>0.0</td>\n",
       "      <td>0.0</td>\n",
       "      <td>0.0</td>\n",
       "      <td>0.0</td>\n",
       "      <td>0.0</td>\n",
       "      <td>11.0</td>\n",
       "      <td>9.0</td>\n",
       "      <td>0.0</td>\n",
       "      <td>0.0</td>\n",
       "      <td>0.0</td>\n",
       "    </tr>\n",
       "    <tr>\n",
       "      <th>1148</th>\n",
       "      <td>0.0</td>\n",
       "      <td>0.0</td>\n",
       "      <td>0.0</td>\n",
       "      <td>9.0</td>\n",
       "      <td>16.0</td>\n",
       "      <td>3.0</td>\n",
       "      <td>0.0</td>\n",
       "      <td>0.0</td>\n",
       "      <td>0.0</td>\n",
       "      <td>0.0</td>\n",
       "      <td>...</td>\n",
       "      <td>0.0</td>\n",
       "      <td>0.0</td>\n",
       "      <td>0.0</td>\n",
       "      <td>0.0</td>\n",
       "      <td>0.0</td>\n",
       "      <td>12.0</td>\n",
       "      <td>12.0</td>\n",
       "      <td>0.0</td>\n",
       "      <td>0.0</td>\n",
       "      <td>0.0</td>\n",
       "    </tr>\n",
       "    <tr>\n",
       "      <th>...</th>\n",
       "      <td>...</td>\n",
       "      <td>...</td>\n",
       "      <td>...</td>\n",
       "      <td>...</td>\n",
       "      <td>...</td>\n",
       "      <td>...</td>\n",
       "      <td>...</td>\n",
       "      <td>...</td>\n",
       "      <td>...</td>\n",
       "      <td>...</td>\n",
       "      <td>...</td>\n",
       "      <td>...</td>\n",
       "      <td>...</td>\n",
       "      <td>...</td>\n",
       "      <td>...</td>\n",
       "      <td>...</td>\n",
       "      <td>...</td>\n",
       "      <td>...</td>\n",
       "      <td>...</td>\n",
       "      <td>...</td>\n",
       "      <td>...</td>\n",
       "    </tr>\n",
       "    <tr>\n",
       "      <th>835</th>\n",
       "      <td>0.0</td>\n",
       "      <td>1.0</td>\n",
       "      <td>8.0</td>\n",
       "      <td>14.0</td>\n",
       "      <td>15.0</td>\n",
       "      <td>2.0</td>\n",
       "      <td>0.0</td>\n",
       "      <td>0.0</td>\n",
       "      <td>0.0</td>\n",
       "      <td>2.0</td>\n",
       "      <td>...</td>\n",
       "      <td>1.0</td>\n",
       "      <td>0.0</td>\n",
       "      <td>0.0</td>\n",
       "      <td>1.0</td>\n",
       "      <td>9.0</td>\n",
       "      <td>12.0</td>\n",
       "      <td>13.0</td>\n",
       "      <td>9.0</td>\n",
       "      <td>0.0</td>\n",
       "      <td>0.0</td>\n",
       "    </tr>\n",
       "    <tr>\n",
       "      <th>1216</th>\n",
       "      <td>0.0</td>\n",
       "      <td>2.0</td>\n",
       "      <td>9.0</td>\n",
       "      <td>15.0</td>\n",
       "      <td>16.0</td>\n",
       "      <td>15.0</td>\n",
       "      <td>2.0</td>\n",
       "      <td>0.0</td>\n",
       "      <td>0.0</td>\n",
       "      <td>11.0</td>\n",
       "      <td>...</td>\n",
       "      <td>7.0</td>\n",
       "      <td>0.0</td>\n",
       "      <td>0.0</td>\n",
       "      <td>0.0</td>\n",
       "      <td>12.0</td>\n",
       "      <td>16.0</td>\n",
       "      <td>15.0</td>\n",
       "      <td>9.0</td>\n",
       "      <td>1.0</td>\n",
       "      <td>0.0</td>\n",
       "    </tr>\n",
       "    <tr>\n",
       "      <th>1653</th>\n",
       "      <td>0.0</td>\n",
       "      <td>0.0</td>\n",
       "      <td>5.0</td>\n",
       "      <td>14.0</td>\n",
       "      <td>14.0</td>\n",
       "      <td>2.0</td>\n",
       "      <td>0.0</td>\n",
       "      <td>0.0</td>\n",
       "      <td>0.0</td>\n",
       "      <td>2.0</td>\n",
       "      <td>...</td>\n",
       "      <td>0.0</td>\n",
       "      <td>0.0</td>\n",
       "      <td>0.0</td>\n",
       "      <td>0.0</td>\n",
       "      <td>9.0</td>\n",
       "      <td>13.0</td>\n",
       "      <td>0.0</td>\n",
       "      <td>0.0</td>\n",
       "      <td>0.0</td>\n",
       "      <td>0.0</td>\n",
       "    </tr>\n",
       "    <tr>\n",
       "      <th>559</th>\n",
       "      <td>0.0</td>\n",
       "      <td>0.0</td>\n",
       "      <td>4.0</td>\n",
       "      <td>10.0</td>\n",
       "      <td>15.0</td>\n",
       "      <td>16.0</td>\n",
       "      <td>4.0</td>\n",
       "      <td>0.0</td>\n",
       "      <td>0.0</td>\n",
       "      <td>0.0</td>\n",
       "      <td>...</td>\n",
       "      <td>0.0</td>\n",
       "      <td>0.0</td>\n",
       "      <td>0.0</td>\n",
       "      <td>0.0</td>\n",
       "      <td>6.0</td>\n",
       "      <td>16.0</td>\n",
       "      <td>4.0</td>\n",
       "      <td>0.0</td>\n",
       "      <td>0.0</td>\n",
       "      <td>0.0</td>\n",
       "    </tr>\n",
       "    <tr>\n",
       "      <th>684</th>\n",
       "      <td>0.0</td>\n",
       "      <td>0.0</td>\n",
       "      <td>6.0</td>\n",
       "      <td>14.0</td>\n",
       "      <td>13.0</td>\n",
       "      <td>4.0</td>\n",
       "      <td>0.0</td>\n",
       "      <td>0.0</td>\n",
       "      <td>0.0</td>\n",
       "      <td>4.0</td>\n",
       "      <td>...</td>\n",
       "      <td>1.0</td>\n",
       "      <td>0.0</td>\n",
       "      <td>0.0</td>\n",
       "      <td>0.0</td>\n",
       "      <td>5.0</td>\n",
       "      <td>16.0</td>\n",
       "      <td>16.0</td>\n",
       "      <td>11.0</td>\n",
       "      <td>0.0</td>\n",
       "      <td>0.0</td>\n",
       "    </tr>\n",
       "  </tbody>\n",
       "</table>\n",
       "<p>1437 rows × 64 columns</p>\n",
       "</div>"
      ],
      "text/plain": [
       "      pixel_0_0  pixel_0_1  pixel_0_2  pixel_0_3  pixel_0_4  pixel_0_5  \\\n",
       "1109        0.0        0.0        0.0        9.0       15.0        2.0   \n",
       "940         0.0        3.0       12.0       12.0       14.0        4.0   \n",
       "192         0.0        1.0       10.0       15.0       16.0       13.0   \n",
       "260         0.0        0.0        0.0       12.0        4.0        0.0   \n",
       "1148        0.0        0.0        0.0        9.0       16.0        3.0   \n",
       "...         ...        ...        ...        ...        ...        ...   \n",
       "835         0.0        1.0        8.0       14.0       15.0        2.0   \n",
       "1216        0.0        2.0        9.0       15.0       16.0       15.0   \n",
       "1653        0.0        0.0        5.0       14.0       14.0        2.0   \n",
       "559         0.0        0.0        4.0       10.0       15.0       16.0   \n",
       "684         0.0        0.0        6.0       14.0       13.0        4.0   \n",
       "\n",
       "      pixel_0_6  pixel_0_7  pixel_1_0  pixel_1_1  ...  pixel_6_6  pixel_6_7  \\\n",
       "1109        0.0        0.0        0.0        0.0  ...       15.0        6.0   \n",
       "940         0.0        0.0        0.0        1.0  ...        8.0        0.0   \n",
       "192         3.0        0.0        0.0        5.0  ...        0.0        0.0   \n",
       "260         0.0        0.0        0.0        0.0  ...        0.0        0.0   \n",
       "1148        0.0        0.0        0.0        0.0  ...        0.0        0.0   \n",
       "...         ...        ...        ...        ...  ...        ...        ...   \n",
       "835         0.0        0.0        0.0        2.0  ...        1.0        0.0   \n",
       "1216        2.0        0.0        0.0       11.0  ...        7.0        0.0   \n",
       "1653        0.0        0.0        0.0        2.0  ...        0.0        0.0   \n",
       "559         4.0        0.0        0.0        0.0  ...        0.0        0.0   \n",
       "684         0.0        0.0        0.0        4.0  ...        1.0        0.0   \n",
       "\n",
       "      pixel_7_0  pixel_7_1  pixel_7_2  pixel_7_3  pixel_7_4  pixel_7_5  \\\n",
       "1109        0.0        0.0        0.0        7.0       15.0       16.0   \n",
       "940         0.0        2.0       13.0       16.0       16.0       16.0   \n",
       "192         0.0        0.0       15.0       13.0        7.0        0.0   \n",
       "260         0.0        0.0        0.0       11.0        9.0        0.0   \n",
       "1148        0.0        0.0        0.0       12.0       12.0        0.0   \n",
       "...         ...        ...        ...        ...        ...        ...   \n",
       "835         0.0        1.0        9.0       12.0       13.0        9.0   \n",
       "1216        0.0        0.0       12.0       16.0       15.0        9.0   \n",
       "1653        0.0        0.0        9.0       13.0        0.0        0.0   \n",
       "559         0.0        0.0        6.0       16.0        4.0        0.0   \n",
       "684         0.0        0.0        5.0       16.0       16.0       11.0   \n",
       "\n",
       "      pixel_7_6  pixel_7_7  \n",
       "1109       16.0        6.0  \n",
       "940         2.0        0.0  \n",
       "192         0.0        0.0  \n",
       "260         0.0        0.0  \n",
       "1148        0.0        0.0  \n",
       "...         ...        ...  \n",
       "835         0.0        0.0  \n",
       "1216        1.0        0.0  \n",
       "1653        0.0        0.0  \n",
       "559         0.0        0.0  \n",
       "684         0.0        0.0  \n",
       "\n",
       "[1437 rows x 64 columns]"
      ]
     },
     "execution_count": 13,
     "metadata": {},
     "output_type": "execute_result"
    }
   ],
   "source": [
    "train_X"
   ]
  },
  {
   "cell_type": "markdown",
   "metadata": {},
   "source": [
    "To be able to use the data in PyTorch, we need to convert our data into PyTorch tensors. Such a tensor can be thought of an efficient way to represent lists and matrices in Python (similar to `numpy`), with the additional benefit that they can be easily copied to the GPU (the `.to(device)` part in the code below) and that they support automatic backpropagation (more on this later):"
   ]
  },
  {
   "cell_type": "code",
   "execution_count": 14,
   "metadata": {},
   "outputs": [],
   "source": [
    "train_x = torch.Tensor(train_X.values).float().to(device)\n",
    "test_x = torch.Tensor(test_X.values).float().to(device)\n",
    "train_y =torch.Tensor(train_y.values).long().to(device)\n",
    "test_y = torch.Tensor(test_y.values).long().to(device)"
   ]
  },
  {
   "cell_type": "markdown",
   "metadata": {
    "id": "5wcTXnyu7NWK"
   },
   "source": [
    "### 2A. Model definition \n"
   ]
  },
  {
   "cell_type": "markdown",
   "metadata": {},
   "source": [
    "We define now the structure of our neural network. For this we create a class that is a subclass from PyTorch's `nn.Module`. By convention we put in the `__init__` method the layers we want to use in the network and in the `forward` method how data flows through this network.\n",
    "\n",
    "Our network has 64 input features, one hidden layer with 5 neurons and 10 output neurons. The hidden layer uses a Relu activation function. Note that the output layer does not have a softmax activation (unlike we have seen it in the lecture). It rather gives out a raw score for each class (more on this later)."
   ]
  },
  {
   "cell_type": "code",
   "execution_count": 17,
   "metadata": {
    "id": "_W47oZ534E-1"
   },
   "outputs": [],
   "source": [
    "class Net(nn.Module):\n",
    "    def __init__(self):\n",
    "        super(Net, self).__init__()\n",
    "        self.hidden = nn.Linear(64, 10)\n",
    "        self.output = nn.Linear(10, 10)\n",
    "\n",
    "    def forward(self, x):\n",
    "        z = F.relu(self.hidden(x))\n",
    "        z = self.output(z)  # no softmax. see CrossEntropyLoss() \n",
    "        return z"
   ]
  },
  {
   "cell_type": "markdown",
   "metadata": {
    "id": "gJyy5JG_84vs"
   },
   "source": [
    "### 3. Model Training"
   ]
  },
  {
   "cell_type": "markdown",
   "metadata": {},
   "source": [
    "We can now start training our network. We run several epochs in which we first predict on the training data with our network and than backpropagate the loss. For this we use PyTorch's build-in optimizer that runs gradient descent on the weights of the network. Hence, in every episode we reduce the loss on the training data and improve our network.\n",
    "\n",
    "As loss function we use cross entropy, which consumes the raw scores from the prediction and internally applies a softmax (that is why we do not need the softmax as last layer in the network).\n",
    "\n",
    "Note that all training data is passed at once to our network (line `net(train_x)` ), since PyTorch will predict on all data points in parallel."
   ]
  },
  {
   "cell_type": "code",
   "execution_count": 25,
   "metadata": {
    "colab": {
     "base_uri": "https://localhost:8080/"
    },
    "id": "7RQHZvvyAFzV",
    "outputId": "85c7caef-49ee-443f-d052-30af1758c4a2"
   },
   "outputs": [
    {
     "name": "stdout",
     "output_type": "stream",
     "text": [
      "\n",
      "Starting training \n",
      "Loss in epoch 0 is 2.380054473876953\n",
      "Loss in epoch 100 is 1.4852365255355835\n",
      "Loss in epoch 200 is 0.6889950633049011\n",
      "Loss in epoch 300 is 0.4031987190246582\n",
      "Loss in epoch 400 is 0.2901186943054199\n",
      "Loss in epoch 500 is 0.23027853667736053\n",
      "Loss in epoch 600 is 0.1920863389968872\n",
      "Loss in epoch 700 is 0.16491509974002838\n",
      "Loss in epoch 800 is 0.1446414440870285\n",
      "Loss in epoch 900 is 0.1289852261543274\n",
      "Done training \n"
     ]
    }
   ],
   "source": [
    "# create network, move it to device and set it to training-mode\n",
    "net = Net().to(device)\n",
    "net.train()\n",
    "\n",
    "# define the parameters for training\n",
    "no_epochs = 1000\n",
    "learning_rate = 0.01\n",
    "loss_func = nn.CrossEntropyLoss()  # applies softmax() internally\n",
    "optimizer = torch.optim.SGD(net.parameters(), lr=learning_rate)\n",
    "\n",
    "print(\"\\nStarting training \")\n",
    "\n",
    "train_losses = []\n",
    "for epoch in range(0, no_epochs):\n",
    "\n",
    "  optimizer.zero_grad()\n",
    "  y_hat = net(train_x)\n",
    "\n",
    "  loss = loss_func(y_hat, train_y)\n",
    "  loss.backward()\n",
    "  optimizer.step()\n",
    "\n",
    "  train_losses.append(loss.item())\n",
    "  \n",
    "  if epoch % 100 == 0:\n",
    "    print(f\"Loss in epoch {epoch} is {loss.item()}\")\n",
    "\n",
    "print(\"Done training \")"
   ]
  },
  {
   "cell_type": "markdown",
   "metadata": {},
   "source": [
    "One standard way to monitor the training is to plot the loss after every episode. If this goes constantly down, the training is working."
   ]
  },
  {
   "cell_type": "code",
   "execution_count": 19,
   "metadata": {
    "colab": {
     "base_uri": "https://localhost:8080/",
     "height": 296
    },
    "id": "fMPxG1i873W7",
    "outputId": "8ed83937-f40a-4e0e-a259-e409fff8fc9e"
   },
   "outputs": [
    {
     "data": {
      "text/plain": [
       "Text(0, 0.5, 'loss')"
      ]
     },
     "execution_count": 19,
     "metadata": {},
     "output_type": "execute_result"
    },
    {
     "data": {
      "image/png": "[encoded data removed]",
      "text/plain": [
       "<Figure size 640x480 with 1 Axes>"
      ]
     },
     "metadata": {},
     "output_type": "display_data"
    }
   ],
   "source": [
    "fig = plt.figure()\n",
    "plt.plot(range(0, no_epochs), train_losses, color='blue')\n",
    "plt.legend(['Train Loss'], loc='upper right')\n",
    "plt.xlabel('number of epochs')\n",
    "plt.ylabel('loss')"
   ]
  },
  {
   "cell_type": "markdown",
   "metadata": {
    "id": "cN8btFSP3yU2"
   },
   "source": [
    "### 4. Model Evaluation"
   ]
  },
  {
   "cell_type": "markdown",
   "metadata": {},
   "source": [
    "Finally, we check the model accuracy on the test data. For this we predict on the test data, identify the class with the highest score and compare it to the true label."
   ]
  },
  {
   "cell_type": "code",
   "execution_count": 20,
   "metadata": {
    "colab": {
     "base_uri": "https://localhost:8080/"
    },
    "id": "wsmVfo49Kytp",
    "outputId": "73bdda50-20d6-41e3-bb45-ce40c114f6fc"
   },
   "outputs": [
    {
     "name": "stdout",
     "output_type": "stream",
     "text": [
      "Accuarcy is 94.72222222222223%\n"
     ]
    }
   ],
   "source": [
    "net.eval() # set network to evaluation mode\n",
    "y_pred = net(test_x)\n",
    "_, predicted = torch.max(y_pred.data, 1)\n",
    "correct = (predicted == test_y).sum().item()\n",
    "print(f\"Accuarcy is {100. * correct / len(test_x)}%\")"
   ]
  },
  {
   "cell_type": "markdown",
   "metadata": {},
   "source": [
    " To check that, calculate the accuracy on the test data already during training after each epoch. Show the plot the results as a second plot similiar to the one above. (Note: Normally we need to do this check on seperate validation data, not on our test data)."
   ]
  },
  {
   "cell_type": "code",
   "execution_count": 44,
   "metadata": {},
   "outputs": [
    {
     "name": "stdout",
     "output_type": "stream",
     "text": [
      "\n",
      "Starting training \n",
      "Loss in epoch 0 is 2.828622341156006\n",
      "Loss in epoch 100 is 1.5724351406097412\n",
      "Loss in epoch 200 is 1.285404920578003\n",
      "Loss in epoch 300 is 1.0212950706481934\n",
      "Loss in epoch 400 is 0.8638478517532349\n",
      "Loss in epoch 500 is 0.7640823721885681\n",
      "Loss in epoch 600 is 0.6867098212242126\n",
      "Loss in epoch 700 is 0.6122086048126221\n",
      "Loss in epoch 800 is 0.5452841520309448\n",
      "Loss in epoch 900 is 0.4958297312259674\n",
      "Loss in epoch 1000 is 0.4568518400192261\n",
      "Loss in epoch 1100 is 0.42414021492004395\n",
      "Loss in epoch 1200 is 0.3922622501850128\n",
      "Loss in epoch 1300 is 0.3587331771850586\n",
      "Loss in epoch 1400 is 0.3283033072948456\n",
      "Loss in epoch 1500 is 0.30131110548973083\n",
      "Loss in epoch 1600 is 0.2792408764362335\n",
      "Loss in epoch 1700 is 0.2599119246006012\n",
      "Loss in epoch 1800 is 0.24376191198825836\n",
      "Loss in epoch 1900 is 0.22945083677768707\n",
      "Loss in epoch 2000 is 0.2165282964706421\n",
      "Loss in epoch 2100 is 0.20487800240516663\n",
      "Loss in epoch 2200 is 0.1947009563446045\n",
      "Loss in epoch 2300 is 0.18558713793754578\n",
      "Loss in epoch 2400 is 0.17729799449443817\n",
      "Loss in epoch 2500 is 0.16933245956897736\n",
      "Loss in epoch 2600 is 0.1618930548429489\n",
      "Loss in epoch 2700 is 0.15505093336105347\n",
      "Loss in epoch 2800 is 0.14867830276489258\n",
      "Loss in epoch 2900 is 0.1427162140607834\n",
      "Loss in epoch 3000 is 0.13693280518054962\n",
      "Loss in epoch 3100 is 0.13149553537368774\n",
      "Loss in epoch 3200 is 0.12657530605793\n",
      "Loss in epoch 3300 is 0.12202716618776321\n",
      "Loss in epoch 3400 is 0.11771027743816376\n",
      "Loss in epoch 3500 is 0.1134556457400322\n",
      "Loss in epoch 3600 is 0.10950853675603867\n",
      "Loss in epoch 3700 is 0.10565797239542007\n",
      "Loss in epoch 3800 is 0.10186748206615448\n",
      "Loss in epoch 3900 is 0.09838727116584778\n",
      "Loss in epoch 4000 is 0.09512171894311905\n",
      "Loss in epoch 4100 is 0.09207309782505035\n",
      "Loss in epoch 4200 is 0.08919710665941238\n",
      "Loss in epoch 4300 is 0.08648288995027542\n",
      "Loss in epoch 4400 is 0.08391184359788895\n",
      "Loss in epoch 4500 is 0.08144553750753403\n",
      "Loss in epoch 4600 is 0.07911965996026993\n",
      "Loss in epoch 4700 is 0.07689965516328812\n",
      "Loss in epoch 4800 is 0.07476989924907684\n",
      "Loss in epoch 4900 is 0.07275017350912094\n",
      "Loss in epoch 5000 is 0.07082948088645935\n",
      "Loss in epoch 5100 is 0.0689876526594162\n",
      "Loss in epoch 5200 is 0.06721466034650803\n",
      "Loss in epoch 5300 is 0.06544957309961319\n",
      "Loss in epoch 5400 is 0.06370954215526581\n",
      "Loss in epoch 5500 is 0.06206847354769707\n",
      "Loss in epoch 5600 is 0.06051112338900566\n",
      "Loss in epoch 5700 is 0.0590435191988945\n",
      "Loss in epoch 5800 is 0.05762161687016487\n",
      "Loss in epoch 5900 is 0.05626218765974045\n",
      "Loss in epoch 6000 is 0.054932404309511185\n",
      "Loss in epoch 6100 is 0.05366552621126175\n",
      "Loss in epoch 6200 is 0.05244133248925209\n",
      "Loss in epoch 6300 is 0.051249872893095016\n",
      "Loss in epoch 6400 is 0.0501239113509655\n",
      "Loss in epoch 6500 is 0.04903100058436394\n",
      "Loss in epoch 6600 is 0.04797910526394844\n",
      "Loss in epoch 6700 is 0.046963680535554886\n",
      "Loss in epoch 6800 is 0.04596839100122452\n",
      "Loss in epoch 6900 is 0.045012641698122025\n",
      "Loss in epoch 7000 is 0.04409680888056755\n",
      "Loss in epoch 7100 is 0.04321044683456421\n",
      "Loss in epoch 7200 is 0.04235745593905449\n",
      "Loss in epoch 7300 is 0.04153784364461899\n",
      "Loss in epoch 7400 is 0.04074485972523689\n",
      "Loss in epoch 7500 is 0.03997756540775299\n",
      "Loss in epoch 7600 is 0.03923262283205986\n",
      "Loss in epoch 7700 is 0.03850674256682396\n",
      "Loss in epoch 7800 is 0.037791747599840164\n",
      "Loss in epoch 7900 is 0.036910995841026306\n",
      "Loss in epoch 8000 is 0.03615904599428177\n",
      "Loss in epoch 8100 is 0.035476576536893845\n",
      "Loss in epoch 8200 is 0.03483148664236069\n",
      "Loss in epoch 8300 is 0.03420781344175339\n",
      "Loss in epoch 8400 is 0.03361225500702858\n",
      "Loss in epoch 8500 is 0.03303223103284836\n",
      "Loss in epoch 8600 is 0.03247489035129547\n",
      "Loss in epoch 8700 is 0.03192649409174919\n",
      "Loss in epoch 8800 is 0.03138122707605362\n",
      "Loss in epoch 8900 is 0.03085278533399105\n",
      "Loss in epoch 9000 is 0.030348384752869606\n",
      "Loss in epoch 9100 is 0.02986259199678898\n",
      "Loss in epoch 9200 is 0.029391242191195488\n",
      "Loss in epoch 9300 is 0.02893354371190071\n",
      "Loss in epoch 9400 is 0.028487516567111015\n",
      "Loss in epoch 9500 is 0.028056606650352478\n",
      "Loss in epoch 9600 is 0.027520807459950447\n",
      "Loss in epoch 9700 is 0.027048420161008835\n",
      "Loss in epoch 9800 is 0.026615947484970093\n",
      "Loss in epoch 9900 is 0.026206551119685173\n",
      "Done training \n"
     ]
    }
   ],
   "source": [
    "# create network, move it to device and set it to training-mode\n",
    "net = Net().to(device)\n",
    "net.train()\n",
    "\n",
    "# define the parameters for training\n",
    "no_epochs = 10000\n",
    "learning_rate = 0.01\n",
    "loss_func = nn.CrossEntropyLoss()  # applies softmax() internally\n",
    "optimizer = torch.optim.SGD(net.parameters(), lr=learning_rate)\n",
    "\n",
    "def accurency():\n",
    "    net.eval() # set network to evaluation mode\n",
    "    y_pred = net(test_x)\n",
    "    _, predicted = torch.max(y_pred.data, 1)\n",
    "    correct = (predicted == test_y).sum().item()\n",
    "    return 100. * correct / len(test_x)\n",
    "\n",
    "\n",
    "print(\"\\nStarting training \")\n",
    "train_accurency = []\n",
    "train_losses = []\n",
    "for epoch in range(0, no_epochs):\n",
    "\n",
    "  optimizer.zero_grad()\n",
    "  y_hat = net(train_x)\n",
    "\n",
    "  loss = loss_func(y_hat, train_y)\n",
    "  loss.backward()\n",
    "  optimizer.step()\n",
    "\n",
    "  train_losses.append(loss.item())\n",
    "    \n",
    "  train_accurency.append(accurency())\n",
    "  \n",
    "  if epoch % 100 == 0:\n",
    "    print(f\"Loss in epoch {epoch} is {loss.item()}\")\n",
    "\n",
    "print(\"Done training \")\n",
    "\n",
    "\n"
   ]
  },
  {
   "cell_type": "code",
   "execution_count": 45,
   "metadata": {},
   "outputs": [
    {
     "data": {
      "text/plain": [
       "Text(0, 0.5, 'loss')"
      ]
     },
     "execution_count": 45,
     "metadata": {},
     "output_type": "execute_result"
    },
    {
     "data": {
      "image/png": "[encoded data removed]",
      "text/plain": [
       "<Figure size 640x480 with 1 Axes>"
      ]
     },
     "metadata": {},
     "output_type": "display_data"
    }
   ],
   "source": [
    "fig = plt.figure()\n",
    "plt.plot(range(0, no_epochs), train_losses, color='blue')\n",
    "plt.legend(['Train Loss'], loc='upper right')\n",
    "plt.xlabel('number of epochs')\n",
    "plt.ylabel('loss')"
   ]
  },
  {
   "cell_type": "code",
   "execution_count": 49,
   "metadata": {},
   "outputs": [
    {
     "data": {
      "text/plain": [
       "Text(0, 0.5, 'acurrency')"
      ]
     },
     "execution_count": 49,
     "metadata": {},
     "output_type": "execute_result"
    },
    {
     "data": {
      "image/png": "[encoded data removed]",
      "text/plain": [
       "<Figure size 640x480 with 1 Axes>"
      ]
     },
     "metadata": {},
     "output_type": "display_data"
    }
   ],
   "source": [
    "fig = plt.figure()\n",
    "plt.plot(range(0, no_epochs), train_accurency, color='green')\n",
    "plt.legend(['Train Accurency'], loc='lower right')\n",
    "plt.xlabel('number of epochs')\n",
    "plt.ylabel('acurrency')"
   ]
  },
  {
   "cell_type": "markdown",
   "metadata": {},
   "source": [
    "#2B"
   ]
  },
  {
   "cell_type": "code",
   "execution_count": 35,
   "metadata": {},
   "outputs": [],
   "source": [
    "class Net(nn.Module):\n",
    "    def __init__(self):\n",
    "        super(Net, self).__init__()\n",
    "        self.hidden = nn.Linear(64, 10)\n",
    "        self.hidden2 = nn.Linear(10, 5)\n",
    "        self.output = nn.Linear(5, 10)\n",
    "\n",
    "    def forward(self, x):\n",
    "        z = F.relu(self.hidden(x))\n",
    "        z = F.relu(self.hidden2(z))\n",
    "        z = self.output(z)  # no softmax. see CrossEntropyLoss() \n",
    "        return z"
   ]
  },
  {
   "cell_type": "code",
   "execution_count": 36,
   "metadata": {},
   "outputs": [
    {
     "name": "stdout",
     "output_type": "stream",
     "text": [
      "\n",
      "Starting training \n",
      "Loss in epoch 0 is 2.5382080078125\n",
      "Loss in epoch 100 is 1.7717844247817993\n",
      "Loss in epoch 200 is 1.1442160606384277\n",
      "Loss in epoch 300 is 0.7926039099693298\n",
      "Loss in epoch 400 is 0.5533164143562317\n",
      "Loss in epoch 500 is 0.4381958544254303\n",
      "Loss in epoch 600 is 0.3609471619129181\n",
      "Loss in epoch 700 is 0.30547034740448\n",
      "Loss in epoch 800 is 0.2666405439376831\n",
      "Loss in epoch 900 is 0.23952198028564453\n",
      "Done training \n"
     ]
    }
   ],
   "source": [
    "# create network, move it to device and set it to training-mode\n",
    "net = Net().to(device)\n",
    "net.train()\n",
    "\n",
    "# define the parameters for training\n",
    "no_epochs = 1000\n",
    "learning_rate = 0.01\n",
    "loss_func = nn.CrossEntropyLoss()  # applies softmax() internally\n",
    "optimizer = torch.optim.SGD(net.parameters(), lr=learning_rate)\n",
    "\n",
    "print(\"\\nStarting training \")\n",
    "\n",
    "train_losses = []\n",
    "for epoch in range(0, no_epochs):\n",
    "\n",
    "  optimizer.zero_grad()\n",
    "  y_hat = net(train_x)\n",
    "\n",
    "  loss = loss_func(y_hat, train_y)\n",
    "  loss.backward()\n",
    "  optimizer.step()\n",
    "\n",
    "  train_losses.append(loss.item())\n",
    "  \n",
    "  if epoch % 100 == 0:\n",
    "    print(f\"Loss in epoch {epoch} is {loss.item()}\")\n",
    "\n",
    "print(\"Done training \")"
   ]
  },
  {
   "cell_type": "code",
   "execution_count": 37,
   "metadata": {},
   "outputs": [
    {
     "data": {
      "text/plain": [
       "Text(0, 0.5, 'loss')"
      ]
     },
     "execution_count": 37,
     "metadata": {},
     "output_type": "execute_result"
    },
    {
     "data": {
      "image/png": "[encoded data removed]",
      "text/plain": [
       "<Figure size 640x480 with 1 Axes>"
      ]
     },
     "metadata": {},
     "output_type": "display_data"
    }
   ],
   "source": [
    "fig = plt.figure()\n",
    "plt.plot(range(0, no_epochs), train_losses, color='blue')\n",
    "plt.legend(['Train Loss'], loc='upper right')\n",
    "plt.xlabel('number of epochs')\n",
    "plt.ylabel('loss')"
   ]
  },
  {
   "cell_type": "code",
   "execution_count": 38,
   "metadata": {},
   "outputs": [
    {
     "name": "stdout",
     "output_type": "stream",
     "text": [
      "Accuarcy is 90.55555555555556%\n"
     ]
    }
   ],
   "source": [
    "net.eval() # set network to evaluation mode\n",
    "y_pred = net(test_x)\n",
    "_, predicted = torch.max(y_pred.data, 1)\n",
    "correct = (predicted == test_y).sum().item()\n",
    "print(f\"Accuarcy is {100. * correct / len(test_x)}%\")"
   ]
  },
  {
   "cell_type": "markdown",
   "metadata": {},
   "source": [
    "###3 Check if you can decrease the training loss even further if you train for more epochs. However, this can easily result in overfitting. To check that, calculate the accuracy on the test data already during training after each epoch. Show the plot the results as a second plot similiar to the one above. (Note: Normally we need to do this check on seperate validation data, not on our test data)."
   ]
  },
  {
   "cell_type": "code",
   "execution_count": null,
   "metadata": {},
   "outputs": [],
   "source": []
  }
 ],
 "metadata": {
  "colab": {
   "authorship_tag": "ABX9TyNB7ogddopYqmFoUzkoa6YX",
   "collapsed_sections": [],
   "include_colab_link": true,
   "name": "4_PyTorch_Example.ipynb",
   "provenance": []
  },
  "kernelspec": {
   "display_name": "Python 3 (ipykernel)",
   "language": "python",
   "name": "python3"
  },
  "language_info": {
   "codemirror_mode": {
    "name": "ipython",
    "version": 3
   },
   "file_extension": ".py",
   "mimetype": "text/x-python",
   "name": "python",
   "nbconvert_exporter": "python",
   "pygments_lexer": "ipython3",
   "version": "3.8.16"
  }
 },
 "nbformat": 4,
 "nbformat_minor": 1
}
