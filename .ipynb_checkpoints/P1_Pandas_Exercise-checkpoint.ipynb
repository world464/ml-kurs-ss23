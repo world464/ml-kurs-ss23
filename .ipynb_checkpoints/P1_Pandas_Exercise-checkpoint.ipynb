{
 "cells": [
  {
   "cell_type": "markdown",
   "metadata": {},
   "source": [
    "# Praktische Übung 1: Pandas"
   ]
  },
  {
   "cell_type": "markdown",
   "metadata": {},
   "source": [
    "## Aufgabe 1"
   ]
  },
  {
   "cell_type": "markdown",
   "metadata": {},
   "source": [
    "1. Laden Sie den Datensatz `automobile.csv` von GitHub aus dem Folder `data` runter.\n",
    "2. Laden Sie die Daten in diesem Notebook in einen Pandas DataFrame.\n",
    "3. Schauen Sie sich die Daten an und versuchen Sie zu verstehen was die Daten abbilden.\n",
    "4. Geben Sie folgende Daten aus:\n",
    "    1. Eine Liste aller Hersteller.\n",
    "    2. Wie oft welcher „body-style“ im Datensatz vorhanden ist.\n",
    "    3. Die fünf Autos mit dem niedrigsten Preis.\n",
    "    4. Die fünf Autos mit dem höchsten Preis"
   ]
  },
  {
   "cell_type": "markdown",
   "metadata": {},
   "source": [
    "## Aufgabe 2"
   ]
  },
  {
   "cell_type": "markdown",
   "metadata": {},
   "source": [
    "1. Was ist der durchschnittliche Preis mit Bezug auf den „body-style“ eines Autos?\n",
    "2. Welches sind die drei „body-style“s mit den durchschnittlich höchsten Preisen?\n",
    "3. Welche Companies stellen „hardtop“ als „body-style“ her?\n",
    "4. Geben Sie alle Autos aus deren Herstellernamen mit \"a\" oder \"b\" beginnt ([Hint](https://pandas.pydata.org/docs/reference/api/pandas.Series.str.startswith.html)).\n",
    "5. Erstellen Sie je einen Scatterplot mit:\n",
    "    1. Scatterplot mit `x=\"horsepower\"` und `y=\"average-mileage\"`\n",
    "    2. Scatterplot mit `x=\"horsepower\"` und `y=\"price\"`"
   ]
  },
  {
   "cell_type": "markdown",
   "metadata": {},
   "source": [
    "## Aufgabe 3"
   ]
  },
  {
   "cell_type": "markdown",
   "metadata": {},
   "source": [
    "1. Zusätlich stehen ihnen nachfolgende Informationen zur Verfügung. Erstellen Sie einen zweiten DataFrame, der diese Informationen enthält ([Hint](https://pandas.pydata.org/pandas-docs/stable/reference/api/pandas.DataFrame.html))\n",
    "\n",
    "|company|country|\n",
    "|--- |--- |\n",
    "|alfa-romero|ITA|\n",
    "|audi|GER|\n",
    "|bmw|GER|\n",
    "|volvo|SWE|\n",
    "|nissan|JAP|\n",
    "|mazda|JAP|\n",
    "\n",
    "2. Verbinden Sie die zwei DataFrames über einen `merge` ([Hint](https://pandas.pydata.org/pandas-docs/stable/reference/api/pandas.DataFrame.merge.html)). Stellen Sie sicher, dass die Datenpunkte welche keine Länderangabe haben nicht verloren gehen.\n",
    "3. Geben Sie in einem DataFrame aus, wieviel Fahrzeuge pro Land vorhanden sind und wie hoch der Durchschnittspreis pro Land liegt."
   ]
  },
  {
   "cell_type": "markdown",
   "metadata": {},
   "source": [
    "## Bonus"
   ]
  },
  {
   "cell_type": "markdown",
   "metadata": {},
   "source": [
    "Folgende Aufgaben sind als Bonus gedacht (für diejenigen die mit den vorherigen Aufgaben schon durch sind). Um sie zu lösen muss selbstständig nach den ben¨ptigten Methoden im Internet gesucht werden. \n",
    "1. Entfernen Sie die Spalte „body-styles“ vom DataFrame.\n",
    "2. Erstellen Sie einen neuen DataFrame der 10% zufällig ausgewählte Zeilen aus dem ursprünglichen DataFrame enthält.\n",
    "3. Fügen Sie die Zeilen des neuen DataFrames an den ursprünglichen DataFrame unten ran.\n",
    "4. Zählen Sie die Anzahl doppelter Einträge in diesem DataFrame."
   ]
  }
 ],
 "metadata": {
  "kernelspec": {
   "display_name": "Python 3 (ipykernel)",
   "language": "python",
   "name": "python3"
  },
  "language_info": {
   "codemirror_mode": {
    "name": "ipython",
    "version": 3
   },
   "file_extension": ".py",
   "mimetype": "text/x-python",
   "name": "python",
   "nbconvert_exporter": "python",
   "pygments_lexer": "ipython3",
   "version": "3.8.16"
  },
  "vscode": {
   "interpreter": {
    "hash": "29f5793556c5c752e57c295414daeb26ac938283f50af760736dec159f1bff02"
   }
  }
 },
 "nbformat": 4,
 "nbformat_minor": 4
}
